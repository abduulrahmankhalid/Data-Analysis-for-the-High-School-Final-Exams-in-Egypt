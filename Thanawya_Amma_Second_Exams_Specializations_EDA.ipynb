{
  "cells": [
    {
      "cell_type": "markdown",
      "metadata": {
        "id": "Pp9tjgeB8_PI"
      },
      "source": [
        "# **Downloading Dataset**"
      ]
    },
    {
      "cell_type": "code",
      "execution_count": null,
      "metadata": {
        "colab": {
          "base_uri": "https://localhost:8080/"
        },
        "id": "oMIAYM0h43MI",
        "outputId": "e0e2f4fd-9ae0-49c0-e312-69543a516a18"
      },
      "outputs": [],
      "source": [
        "from google.colab import drive\n",
        "drive.mount('/content/drive')"
      ]
    },
    {
      "cell_type": "markdown",
      "metadata": {
        "id": "Ocl6PYh0mEJy"
      },
      "source": [
        "# **Importing Data**"
      ]
    },
    {
      "cell_type": "code",
      "execution_count": null,
      "metadata": {
        "id": "NzMcXvBSCnCZ"
      },
      "outputs": [],
      "source": [
        "import pandas as pd\n",
        "import numpy as np\n",
        "# To display all the columns of dataframe\n",
        "pd.set_option('display.max_columns', 30)\n",
        "\n",
        "import warnings\n",
        "warnings.filterwarnings(\"ignore\")\n",
        "\n",
        "import matplotlib.pyplot as plt\n",
        "import seaborn as sns\n",
        "import plotly.express as px\n",
        "import plotly.graph_objects as go\n",
        "from plotly.subplots import make_subplots\n",
        "plt.style.use('ggplot')"
      ]
    },
    {
      "cell_type": "code",
      "execution_count": null,
      "metadata": {
        "id": "y7fGSyEbbJFv"
      },
      "outputs": [],
      "source": [
        "All_Data = pd.read_csv(\"/content/drive/MyDrive/Omdena/Second Exams Specializations/01_SecondExams_All_Data.csv\")"
      ]
    },
    {
      "cell_type": "code",
      "execution_count": null,
      "metadata": {
        "colab": {
          "base_uri": "https://localhost:8080/",
          "height": 0
        },
        "id": "QgzD_hJYbJFv",
        "outputId": "a4977cc2-a930-4522-f5b0-c3940e7289db"
      },
      "outputs": [],
      "source": [
        "All_Data"
      ]
    },
    {
      "cell_type": "code",
      "execution_count": null,
      "metadata": {
        "id": "ay3AFq7GCnFr"
      },
      "outputs": [],
      "source": [
        "Literary_Special_Students = pd.read_csv(\"/content/drive/MyDrive/Omdena/Second Exams Specializations/01_SecondExam_Literary_Specialization.csv\")"
      ]
    },
    {
      "cell_type": "code",
      "execution_count": null,
      "metadata": {
        "colab": {
          "base_uri": "https://localhost:8080/",
          "height": 0
        },
        "id": "qy1zrBnuCnIR",
        "outputId": "086189e0-cfa9-436d-ec37-554c53877d98"
      },
      "outputs": [],
      "source": [
        "Literary_Special_Students"
      ]
    },
    {
      "cell_type": "markdown",
      "metadata": {
        "id": "YdJ8Kwll5ony"
      },
      "source": [
        "\n",
        "\n",
        "---\n",
        "\n"
      ]
    },
    {
      "cell_type": "code",
      "execution_count": null,
      "metadata": {
        "id": "F09OlJ655h9x"
      },
      "outputs": [],
      "source": [
        "Scientific_Special_Students = pd.read_csv(\"/content/drive/MyDrive/Omdena/Second Exams Specializations/01_SecondExam_Scientific_Specialization.csv\")"
      ]
    },
    {
      "cell_type": "code",
      "execution_count": null,
      "metadata": {
        "colab": {
          "base_uri": "https://localhost:8080/",
          "height": 0
        },
        "id": "wWDCfuwZ5h9x",
        "outputId": "bc215b4b-d92c-4cac-9100-2424aa77cba7"
      },
      "outputs": [],
      "source": [
        "Scientific_Special_Students"
      ]
    },
    {
      "cell_type": "markdown",
      "metadata": {
        "id": "fONnqD535szG"
      },
      "source": [
        "\n",
        "\n",
        "---\n",
        "\n"
      ]
    },
    {
      "cell_type": "code",
      "execution_count": null,
      "metadata": {
        "id": "5HE67NUH5th9"
      },
      "outputs": [],
      "source": [
        "Math_SubSpecial_Students = pd.read_csv(\"/content/drive/MyDrive/Omdena/Second Exams Specializations/01_SecondExam_Scientific_Math_Sub-Specialization.csv\")"
      ]
    },
    {
      "cell_type": "code",
      "execution_count": null,
      "metadata": {
        "colab": {
          "base_uri": "https://localhost:8080/",
          "height": 0
        },
        "id": "TpwoIM9_5th9",
        "outputId": "9f923f47-0539-4725-d9b7-a4f25fa9978f"
      },
      "outputs": [],
      "source": [
        "Math_SubSpecial_Students"
      ]
    },
    {
      "cell_type": "markdown",
      "metadata": {
        "id": "PCm8ilQ052Sg"
      },
      "source": [
        "\n",
        "\n",
        "---\n",
        "\n"
      ]
    },
    {
      "cell_type": "code",
      "execution_count": null,
      "metadata": {
        "id": "0it8qbKe52Sg"
      },
      "outputs": [],
      "source": [
        "Science_SubSpecial_Students = pd.read_csv(\"/content/drive/MyDrive/Omdena/Second Exams Specializations/01_SecondExam_Scientific_Science_Sub-Specialization.csv\")"
      ]
    },
    {
      "cell_type": "code",
      "execution_count": null,
      "metadata": {
        "colab": {
          "base_uri": "https://localhost:8080/",
          "height": 0
        },
        "id": "blEIo1Mw52Sg",
        "outputId": "d531dada-cf64-42d5-f87e-06a335e558d0"
      },
      "outputs": [],
      "source": [
        "Science_SubSpecial_Students"
      ]
    },
    {
      "cell_type": "markdown",
      "metadata": {
        "id": "3r_mfgIr575h"
      },
      "source": [
        "# **Re-Converting Categorical Columns**"
      ]
    },
    {
      "cell_type": "code",
      "execution_count": null,
      "metadata": {
        "id": "luoMHTxEGA79"
      },
      "outputs": [],
      "source": [
        "cat_cols=['school_name_arabic','administration','government_Arabic', 'branch', 'student_type', 'status','gender']"
      ]
    },
    {
      "cell_type": "code",
      "execution_count": null,
      "metadata": {
        "id": "mF0fWwkAGA5k"
      },
      "outputs": [],
      "source": [
        "data = [Literary_Special_Students, Scientific_Special_Students, Math_SubSpecial_Students ,Science_SubSpecial_Students, All_Data]\n",
        "\n",
        "for df in data:\n",
        "  for col in cat_cols:\n",
        "    df[col] = df[col].astype(\"category\")"
      ]
    },
    {
      "cell_type": "code",
      "execution_count": null,
      "metadata": {
        "colab": {
          "base_uri": "https://localhost:8080/"
        },
        "id": "C-vFnsRu5_2P",
        "outputId": "aa885202-8b76-4a9b-cf7b-b5735078a6d2"
      },
      "outputs": [],
      "source": [
        "Literary_Special_Students.info()"
      ]
    },
    {
      "cell_type": "code",
      "execution_count": null,
      "metadata": {
        "colab": {
          "base_uri": "https://localhost:8080/"
        },
        "id": "aDzdJIYV5_0j",
        "outputId": "cceff4dc-8b48-4c34-e37d-7f60d8bf948b"
      },
      "outputs": [],
      "source": [
        "Scientific_Special_Students.info()"
      ]
    },
    {
      "cell_type": "code",
      "execution_count": null,
      "metadata": {
        "colab": {
          "base_uri": "https://localhost:8080/"
        },
        "id": "4em5mRRa6pWF",
        "outputId": "abf683e3-8a2b-4436-c16e-2053a7b0d73b"
      },
      "outputs": [],
      "source": [
        "Math_SubSpecial_Students.info()"
      ]
    },
    {
      "cell_type": "code",
      "execution_count": null,
      "metadata": {
        "colab": {
          "base_uri": "https://localhost:8080/"
        },
        "id": "4au4hsNu6pUB",
        "outputId": "a2bf4919-1ff3-47c6-bb4a-64a3e33abd8a"
      },
      "outputs": [],
      "source": [
        "Science_SubSpecial_Students.info()"
      ]
    },
    {
      "cell_type": "markdown",
      "metadata": {
        "id": "pvBI_aLxQWom"
      },
      "source": [
        "# **Intial Data Exploratory Analysis**"
      ]
    },
    {
      "cell_type": "markdown",
      "metadata": {
        "id": "QhyZkXRiZbAm"
      },
      "source": [
        "## **General Analysis**"
      ]
    },
    {
      "cell_type": "code",
      "execution_count": null,
      "metadata": {
        "colab": {
          "base_uri": "https://localhost:8080/",
          "height": 0
        },
        "id": "Faf63I-Ga1KV",
        "outputId": "1603d6a9-0e35-4a62-da70-b1b5bc1ec876"
      },
      "outputs": [],
      "source": [
        "All_Data"
      ]
    },
    {
      "cell_type": "code",
      "execution_count": null,
      "metadata": {
        "colab": {
          "base_uri": "https://localhost:8080/",
          "height": 0
        },
        "id": "DVgQ0AMoa1KY",
        "outputId": "70995bb3-1ca2-4da7-a722-76d888e0d4e0"
      },
      "outputs": [],
      "source": [
        "All_Data.describe()"
      ]
    },
    {
      "cell_type": "markdown",
      "metadata": {
        "id": "R5Ec666pa1KZ"
      },
      "source": [
        "- **About 75% of the Students have higher than 52% Percentage Grade. Higher with 2% than First Exams Results**\n",
        "\n",
        "- **And Only About 25% of the Students have higher than 58% Percentage Grade. Raher than 67 in First Exams Results.**\n",
        "\n",
        "- **Most Student Grades are Also above Success Grade**\n",
        "\n",
        "- **Highest Total Grade is 392 (95.6%)**  \n"
      ]
    },
    {
      "cell_type": "code",
      "execution_count": null,
      "metadata": {
        "colab": {
          "base_uri": "https://localhost:8080/",
          "height": 0
        },
        "id": "1MmOJONYa1Kb",
        "outputId": "59fd7df2-4997-4a83-ef20-5827c58ce4df"
      },
      "outputs": [],
      "source": [
        "All_Data.describe(include=\"category\")"
      ]
    },
    {
      "cell_type": "markdown",
      "metadata": {
        "id": "FF7nGVVAa1Kb"
      },
      "source": [
        "- **Most Frequent Varibales are the Same as First Exams Results.**\n",
        "\n",
        " - **Most City that has Students in Thanawya Amma is** `\"المنتزه\"`\n",
        "\n",
        " - **Most Goverment that Students in Thanawya Amma is Cairo** `\"القاهرة\"`\n",
        "\n",
        " - **Most Students in Thanawya Amma are** `Females`\n",
        "\n",
        "- **Except for Branch More Literary Specialization Students take Second Exames.**  \n"
      ]
    },
    {
      "cell_type": "code",
      "execution_count": null,
      "metadata": {
        "colab": {
          "base_uri": "https://localhost:8080/"
        },
        "id": "h4hB0Fhsa1Kd",
        "outputId": "a36597ce-9660-40a3-9c25-481aae74a60d"
      },
      "outputs": [],
      "source": [
        "All_Data.info()"
      ]
    },
    {
      "cell_type": "markdown",
      "metadata": {
        "id": "N6kR9hZja1Kd"
      },
      "source": [
        "- **We have 153,192 Students in Thanawya Amma that took the First Exams Last Year.**"
      ]
    },
    {
      "cell_type": "markdown",
      "metadata": {
        "id": "IOodUOZVYpdP"
      },
      "source": [
        "## **Categorcial Columns Analysis**"
      ]
    },
    {
      "cell_type": "code",
      "execution_count": null,
      "metadata": {
        "colab": {
          "base_uri": "https://localhost:8080/"
        },
        "id": "89GXQFLcU1vi",
        "outputId": "437b03d4-235b-462e-e82d-140cc7c4a435"
      },
      "outputs": [],
      "source": [
        "All_Data[\"government_Arabic\"].value_counts()"
      ]
    },
    {
      "cell_type": "code",
      "execution_count": null,
      "metadata": {
        "colab": {
          "base_uri": "https://localhost:8080/",
          "height": 559
        },
        "id": "1grmJM7YU1vi",
        "outputId": "0d81427e-1d81-4137-b0cc-9a864d7a108c"
      },
      "outputs": [],
      "source": [
        "plt.figure(figsize=(10,15))\n",
        "\n",
        "keys = [\"Cairo\", \"Giza\", \"Sharqiya\",\"Daqahliya\" , \"Alexandria\" , \"Qalioubiya\", \"Minya\", \"Gharbiya\", \"Monofiya\", \"Beheira\",\n",
        "        \"Assiut\", \"Kafr El Sheikh\", \"Sohag\", \"Bani Suef\" ,\"Fayyoum\", \"Qena\", \"Damietta\", \"Ismailia\", \"Aswan\", \"Luxor\"]\n",
        "\n",
        "\n",
        "fig = px.pie(All_Data, values=All_Data[\"government_Arabic\"].value_counts().iloc[:20], names=keys,\n",
        "             title='Top 20 Cities Distribution of Thanawya Amma Students in Egypt in Second Exams')\n",
        "\n",
        "fig.show()"
      ]
    },
    {
      "cell_type": "markdown",
      "metadata": {
        "id": "4fridDPFk5JE"
      },
      "source": [
        "- **Not Much Diffrence Distribution of Students Than First Exams.**"
      ]
    },
    {
      "cell_type": "markdown",
      "metadata": {
        "id": "OKx7h0W8U08h"
      },
      "source": [
        "\n",
        "\n",
        "---\n",
        "\n"
      ]
    },
    {
      "cell_type": "code",
      "execution_count": null,
      "metadata": {
        "colab": {
          "base_uri": "https://localhost:8080/"
        },
        "id": "wM6paB7JSL4F",
        "outputId": "f9a26982-fbc4-4aca-d746-656fc29d9bf1"
      },
      "outputs": [],
      "source": [
        "All_Data[\"branch\"].value_counts()"
      ]
    },
    {
      "cell_type": "code",
      "execution_count": null,
      "metadata": {
        "colab": {
          "base_uri": "https://localhost:8080/",
          "height": 542
        },
        "id": "BrJmBGiCR049",
        "outputId": "5169e223-4dc5-44d1-af46-1a6df7123d88"
      },
      "outputs": [],
      "source": [
        "keys = ['أدبي','علمي علوم','علمي رياضة']\n",
        "\n",
        "fig = px.pie(All_Data, values=All_Data[\"branch\"].value_counts(), names = keys,\n",
        "             title='Thanawya Amma Distribution of Specializations in Second Exams')\n",
        "\n",
        "fig.show()"
      ]
    },
    {
      "cell_type": "markdown",
      "metadata": {
        "id": "ya0U2vEdkHds"
      },
      "source": [
        "- **Same Percentage of Scientific Specialization, With Less Math Sub-Specialization, And More Literary Specialization**"
      ]
    },
    {
      "cell_type": "markdown",
      "metadata": {
        "id": "CN4HoZv9Uaoi"
      },
      "source": [
        "\n",
        "\n",
        "---\n",
        "\n"
      ]
    },
    {
      "cell_type": "code",
      "execution_count": null,
      "metadata": {
        "colab": {
          "base_uri": "https://localhost:8080/"
        },
        "id": "k-s2JfvXUJeR",
        "outputId": "07526955-3153-4a95-b541-e61f6d9dc001"
      },
      "outputs": [],
      "source": [
        "All_Data[\"status\"].value_counts()"
      ]
    },
    {
      "cell_type": "code",
      "execution_count": null,
      "metadata": {
        "colab": {
          "base_uri": "https://localhost:8080/",
          "height": 542
        },
        "id": "197daP42UFty",
        "outputId": "979cd76c-8f83-44e9-aafc-10d7ce38392e"
      },
      "outputs": [],
      "source": [
        "keys = [\"Succeeded\",\"Failed\"]\n",
        "\n",
        "fig = px.pie(All_Data, values=All_Data[\"status\"].value_counts(), names = keys,\n",
        "             title=\"Thanawya Amma Distribution of Students Status in Second Exams\")\n",
        "\n",
        "fig.show()"
      ]
    },
    {
      "cell_type": "markdown",
      "metadata": {
        "id": "rwh-3UBikth0"
      },
      "source": [
        "- **Most of the Students Successed in Second Exams, Only About 10% Failed.**"
      ]
    },
    {
      "cell_type": "markdown",
      "metadata": {
        "id": "UX2BjuNoUkgq"
      },
      "source": [
        "\n",
        "\n",
        "---\n",
        "\n"
      ]
    },
    {
      "cell_type": "code",
      "execution_count": null,
      "metadata": {
        "colab": {
          "base_uri": "https://localhost:8080/"
        },
        "id": "X6KVT0FIUmbC",
        "outputId": "61825513-d7cb-47ad-96df-a96d7763d991"
      },
      "outputs": [],
      "source": [
        "All_Data[\"gender\"].value_counts()"
      ]
    },
    {
      "cell_type": "code",
      "execution_count": null,
      "metadata": {
        "colab": {
          "base_uri": "https://localhost:8080/",
          "height": 542
        },
        "id": "hQ8sL7qLUlZq",
        "outputId": "07ef38d3-5490-4d9c-fe09-f8ef3ed363d0"
      },
      "outputs": [],
      "source": [
        "keys = [\"Succeeded\",\"Failed\"]\n",
        "\n",
        "fig = px.pie(All_Data, values=All_Data[\"gender\"].value_counts(), names = keys,\n",
        "             title=\"Thanawya Amma Distribution of Gender in Second Exams\")\n",
        "\n",
        "fig.show()"
      ]
    },
    {
      "cell_type": "markdown",
      "metadata": {
        "id": "ep6Ggk9ykXPu"
      },
      "source": [
        "- **Slightly Higher Percentages of Females Take the Second Exams Compared to Males, Also Slighlty Higher than Percentages in First Exams.**"
      ]
    },
    {
      "cell_type": "markdown",
      "metadata": {
        "id": "PJzEpWLJ62NB"
      },
      "source": [
        "# **Literary Specialization Analysis**"
      ]
    },
    {
      "cell_type": "markdown",
      "metadata": {
        "id": "1HseDpDX6y1i"
      },
      "source": [
        "## **General Analysis for Specialization**"
      ]
    },
    {
      "cell_type": "code",
      "execution_count": null,
      "metadata": {
        "colab": {
          "base_uri": "https://localhost:8080/",
          "height": 0
        },
        "id": "LN9w9ju6oUIU",
        "outputId": "b85a9897-29a7-4386-ee19-0747adf1ac88"
      },
      "outputs": [],
      "source": [
        "Literary_Special_Students"
      ]
    },
    {
      "cell_type": "code",
      "execution_count": null,
      "metadata": {
        "colab": {
          "base_uri": "https://localhost:8080/",
          "height": 0
        },
        "id": "1RioHSc_pZV4",
        "outputId": "d691870c-4566-47d0-aa37-4f7b84ff85ac"
      },
      "outputs": [],
      "source": [
        "Literary_Special_Students.describe()"
      ]
    },
    {
      "cell_type": "markdown",
      "metadata": {
        "id": "B0N0ASj3zCSh"
      },
      "source": [
        "- **About 75% of the Students in this Specialization have higher than 52% Percentage Grade**\n",
        "\n",
        "- **And Only About 25% of the Students in this Specialization have higher than 58% Percentage Grade !, Compared to 67% in First Exams**\n",
        "\n",
        "- **Most Student Grades in this Specialization are nearly above Success Grade**\n",
        "\n",
        "- **Highest Total Grade in this Specialization is only 367 (89.5%)**  \n"
      ]
    },
    {
      "cell_type": "code",
      "execution_count": null,
      "metadata": {
        "colab": {
          "base_uri": "https://localhost:8080/",
          "height": 0
        },
        "id": "Eyiqgzt8pnSJ",
        "outputId": "20a3c6d0-bc0a-4b91-9b29-51fbbbc288b0"
      },
      "outputs": [],
      "source": [
        "Literary_Special_Students.describe(include=\"category\")"
      ]
    },
    {
      "cell_type": "markdown",
      "metadata": {
        "id": "ln8s2QRArBeA"
      },
      "source": [
        "- **Most Frquent Values are the Same Compared to First Exams, Except for City**\n",
        " - **Most School that has Literary Specialization Students is** `\"منازل إدارة المنيا\"`\n",
        "\n",
        " - **Most City that has Literary Specialization Students is** `\"العمرانية\"`\n",
        "\n",
        " - **Most Goverment that has Literary Specialization Students is Cairo** `\"القاهرة\"`\n",
        "\n",
        " - **Most Students in the Literary Specialization are** `Females` \n"
      ]
    },
    {
      "cell_type": "code",
      "execution_count": null,
      "metadata": {
        "colab": {
          "base_uri": "https://localhost:8080/"
        },
        "id": "-HaOnmqdoVZi",
        "outputId": "aa3a94a6-dfdd-46e2-c341-381fb2e10923"
      },
      "outputs": [],
      "source": [
        "Literary_Special_Students.info()"
      ]
    },
    {
      "cell_type": "code",
      "execution_count": null,
      "metadata": {
        "colab": {
          "base_uri": "https://localhost:8080/"
        },
        "id": "MeH2kYzNRE3B",
        "outputId": "0b9728df-2570-4325-d39d-a23a60c510f6"
      },
      "outputs": [],
      "source": [
        "len(Literary_Special_Students) / len(All_Data)"
      ]
    },
    {
      "cell_type": "markdown",
      "metadata": {
        "id": "aimwxjCuo7o2"
      },
      "source": [
        "- **We have 72,661 Students in the Literary Specialization that took the Second Exams**\n",
        "- **About 48% Of All Students That took the Second Exams**"
      ]
    },
    {
      "cell_type": "markdown",
      "metadata": {
        "id": "sFu7ylhbuuNU"
      },
      "source": [
        "## **Let's Analyze Absent Students (value = 0), Passed Students(value= -1)**"
      ]
    },
    {
      "cell_type": "markdown",
      "metadata": {
        "id": "odOLOXfDOLJZ"
      },
      "source": [
        "### **Absent Students**"
      ]
    },
    {
      "cell_type": "code",
      "execution_count": null,
      "metadata": {
        "colab": {
          "base_uri": "https://localhost:8080/",
          "height": 0
        },
        "id": "8e671JX9uXUe",
        "outputId": "611a2707-a839-4ee5-af80-bf64711730d9"
      },
      "outputs": [],
      "source": [
        "Literary_Special_AbsentStudents = Literary_Special_Students[Literary_Special_Students.isin([0]).values].drop_duplicates()\n",
        "Literary_Special_AbsentStudents"
      ]
    },
    {
      "cell_type": "markdown",
      "metadata": {
        "id": "pU5oEu7wwwGr"
      },
      "source": [
        "- **About Only 524 Students in the Literary Specialization were absent in atleast one exam.**"
      ]
    },
    {
      "cell_type": "code",
      "execution_count": null,
      "metadata": {
        "colab": {
          "base_uri": "https://localhost:8080/"
        },
        "id": "x8ahxVGG2xno",
        "outputId": "70baad5d-c2e5-450e-c0ad-1647e88dfccf"
      },
      "outputs": [],
      "source": [
        "(len(Literary_Special_AbsentStudents) / len(Literary_Special_Students)) * 100"
      ]
    },
    {
      "cell_type": "markdown",
      "metadata": {
        "id": "J63p4OMW2xno"
      },
      "source": [
        "- **about 7 of every 100 Students in this Specialization**"
      ]
    },
    {
      "cell_type": "code",
      "execution_count": null,
      "metadata": {
        "colab": {
          "base_uri": "https://localhost:8080/",
          "height": 0
        },
        "id": "Me8-6TPZujCk",
        "outputId": "caef0b2e-910e-45c4-cdc9-50f3eed9f381"
      },
      "outputs": [],
      "source": [
        "Literary_Special_AbsentStudents.describe()"
      ]
    },
    {
      "cell_type": "markdown",
      "metadata": {
        "id": "T6zxoWoxwkvM"
      },
      "source": [
        "- **As Expected Absent Students Don't Have Great Grades, Especially in Second Exams, Most of them don't score the succes grade !**"
      ]
    },
    {
      "cell_type": "code",
      "execution_count": null,
      "metadata": {
        "colab": {
          "base_uri": "https://localhost:8080/",
          "height": 0
        },
        "id": "rqc7AzWcwnKj",
        "outputId": "f5fb67f3-d718-472a-95c2-110811d735d6"
      },
      "outputs": [],
      "source": [
        "Literary_Special_AbsentStudents.describe(include=\"category\")"
      ]
    },
    {
      "cell_type": "markdown",
      "metadata": {
        "id": "PNqgY_RWxKka"
      },
      "source": [
        "- **Most Frequent Categroical Values that appeared in all specialization students appears to be diffrent in City, `\"الجيزة\"` has most absent students in the literary specialization.**"
      ]
    },
    {
      "cell_type": "markdown",
      "metadata": {
        "id": "niKDEVraxxSh"
      },
      "source": [
        "\n",
        "\n",
        "---\n",
        "\n"
      ]
    },
    {
      "cell_type": "markdown",
      "metadata": {
        "id": "tK9opGAFOO2r"
      },
      "source": [
        "### **Passed Students**"
      ]
    },
    {
      "cell_type": "code",
      "execution_count": null,
      "metadata": {
        "colab": {
          "base_uri": "https://localhost:8080/",
          "height": 0
        },
        "id": "rDt4_PiDxwBk",
        "outputId": "5b36cfd1-9070-4202-c636-bad578174d4b"
      },
      "outputs": [],
      "source": [
        "Literary_Special_PassedStudents = Literary_Special_Students[Literary_Special_Students.isin([-1]).values].drop_duplicates()\n",
        "Literary_Special_PassedStudents"
      ]
    },
    {
      "cell_type": "markdown",
      "metadata": {
        "id": "utppxLerxwBl"
      },
      "source": [
        "- **About 13,902 Students in the Literary Specialization Nearly Passed Subjects that don't participate in the total grade in the second exams.**"
      ]
    },
    {
      "cell_type": "code",
      "execution_count": null,
      "metadata": {
        "colab": {
          "base_uri": "https://localhost:8080/",
          "height": 0
        },
        "id": "_JVh5EZgxwBl",
        "outputId": "19386488-4b9e-4782-ab07-773acf748ac4"
      },
      "outputs": [],
      "source": [
        "Literary_Special_PassedStudents.describe()"
      ]
    },
    {
      "cell_type": "markdown",
      "metadata": {
        "id": "T0iV9y81wpbM"
      },
      "source": [
        "- **As Expected Absent Students Don't Have Great Grades, Especially in Second Exams, Percentage Score is 80% !**"
      ]
    },
    {
      "cell_type": "code",
      "execution_count": null,
      "metadata": {
        "colab": {
          "base_uri": "https://localhost:8080/",
          "height": 0
        },
        "id": "BpyHp0_FxwBl",
        "outputId": "b028b8ab-81ec-4822-a556-101270340d35"
      },
      "outputs": [],
      "source": [
        "Literary_Special_AbsentStudents.describe(include=\"category\")"
      ]
    },
    {
      "cell_type": "markdown",
      "metadata": {
        "id": "D8pJVpOrxwBl"
      },
      "source": [
        "- **Also, Most Frequent Categroical Values that appeared in all specialization students appears to be diffrent in City, `\"الجيزة\"` has most nearly passed students in the literary specialization.**"
      ]
    },
    {
      "cell_type": "markdown",
      "metadata": {
        "id": "kDMXFqGEoGuK"
      },
      "source": [
        "## **In Subjects, Let's Start with Subjects that don't Participate in Total Grade**"
      ]
    },
    {
      "cell_type": "code",
      "execution_count": null,
      "metadata": {
        "colab": {
          "base_uri": "https://localhost:8080/",
          "height": 0
        },
        "id": "wjzGMBGE6x25",
        "outputId": "9cf58e1e-7d49-4826-9e89-16988fe95b7c"
      },
      "outputs": [],
      "source": [
        "Literary_NotInTotal_Subjects = Literary_Special_Students[[\"religion\",\t\"altarbiat_alwatania\",\t\"economics_statistics\"]]\n",
        "Literary_NotInTotal_Subjects"
      ]
    },
    {
      "cell_type": "code",
      "execution_count": null,
      "metadata": {
        "colab": {
          "base_uri": "https://localhost:8080/",
          "height": 0
        },
        "id": "4Xfvc4Ues4du",
        "outputId": "2ba11c9c-53f8-4408-ae86-7519ae82804b"
      },
      "outputs": [],
      "source": [
        "Literary_NotInTotal_Subjects.describe()"
      ]
    },
    {
      "cell_type": "code",
      "execution_count": null,
      "metadata": {
        "colab": {
          "base_uri": "https://localhost:8080/",
          "height": 542
        },
        "id": "Y4VdA7zw1Qp9",
        "outputId": "f0bf6f92-ba25-48d7-ae58-fc5101f23690"
      },
      "outputs": [],
      "source": [
        "import plotly.graph_objects as go\n",
        "from plotly.subplots import make_subplots\n",
        "\n",
        "\n",
        "# Create subplots: use 'domain' type for Pie subplot\n",
        "\n",
        "fig = make_subplots(rows=1, cols=3, specs=[[{'type':'domain'}, {'type':'domain'}, {'type':'domain'}]])\n",
        "\n",
        "fig.add_trace(go.Pie(labels=Literary_NotInTotal_Subjects[\"religion\"].replace(-1,\"Pass\").value_counts().replace(-1,\"Pass\").index[:20], name='Grade'\n",
        "                     , values=Literary_NotInTotal_Subjects[\"religion\"].replace(-1,\"Pass\").value_counts().iloc[:20] ,titleposition='top left',\n",
        "                     titlefont={'size':20}, title=\"Religion\"),1, 1)\n",
        "\n",
        "fig.add_trace(go.Pie(labels=Literary_NotInTotal_Subjects[\"altarbiat_alwatania\"].replace(-1,\"Pass\").value_counts().index[:20], name='Grade'\n",
        "                     , values=Literary_NotInTotal_Subjects[\"altarbiat_alwatania\"].replace(-1,\"Pass\").value_counts().iloc[:20] ,titlefont={'size':20},\n",
        "                     titleposition='top left', title=\"Altarbiat Alwatania\"),1, 2)\n",
        "\n",
        "fig.add_trace(go.Pie(labels=Literary_NotInTotal_Subjects[\"economics_statistics\"].replace(-1,\"Pass\").value_counts().index[:20], name='Grade'\n",
        "                     , values=Literary_NotInTotal_Subjects[\"economics_statistics\"].replace(-1,\"Pass\").value_counts().iloc[:20] ,titleposition='top left' ,\n",
        "                     titlefont={'size':20}, title=\"Economics Statistics\"),1, 3)\n",
        "\n",
        "fig.update_traces(textposition='inside')\n",
        "fig.update_layout(title_text=\"Literary Specialization Not in Total Subjects Grades\", titlefont={'size':20})\n",
        "fig.show()"
      ]
    },
    {
      "cell_type": "code",
      "execution_count": null,
      "metadata": {
        "colab": {
          "base_uri": "https://localhost:8080/",
          "height": 1000
        },
        "id": "c6CMATcH5WYN",
        "outputId": "7924b928-3f80-42bd-dfe0-ef747a805f43"
      },
      "outputs": [],
      "source": [
        "fig1 = px.histogram(Literary_NotInTotal_Subjects[\"religion\"], height=400)\n",
        "fig2 = px.histogram(Literary_NotInTotal_Subjects[\"altarbiat_alwatania\"], height=400)\n",
        "fig3 = px.histogram(Literary_NotInTotal_Subjects[\"economics_statistics\"], height=400)\n",
        "\n",
        "fig1.show()\n",
        "fig2.show()\n",
        "fig3.show()"
      ]
    },
    {
      "cell_type": "code",
      "execution_count": null,
      "metadata": {
        "colab": {
          "base_uri": "https://localhost:8080/",
          "height": 0
        },
        "id": "oxx_p50I6yK2",
        "outputId": "63694898-cff0-4891-b42e-b66621f80ebe"
      },
      "outputs": [],
      "source": [
        "fig = px.histogram(Literary_NotInTotal_Subjects, title=\"Literary Specialization Not in Total Subjects Grades\")\n",
        "fig.show()"
      ]
    },
    {
      "cell_type": "markdown",
      "metadata": {
        "id": "NRtyI1tA4lj7"
      },
      "source": [
        "- **Noticable Number of Students got the Pass Grade about 14,000 (20%) in all these subjects.** \n",
        "\n",
        "- **Distribution of Grades is nearly the same in `\"religion\"` and `\"altarbiat_alwatania\"`.**\n",
        "\n",
        "- **But in `\"economics_statistics\"` the Highest Frequent Grade is the Success grade and Second Highest is the Pass Grade.**"
      ]
    },
    {
      "cell_type": "code",
      "execution_count": null,
      "metadata": {
        "colab": {
          "base_uri": "https://localhost:8080/",
          "height": 0
        },
        "id": "sy3v6ybf6yM5",
        "outputId": "859ee210-6fef-418e-995a-5828b00a2bdf"
      },
      "outputs": [],
      "source": [
        "fig = px.box(Literary_NotInTotal_Subjects, title=\"Literary Specialization Not in Total Subjects Grades\")\n",
        "fig.show() "
      ]
    },
    {
      "cell_type": "markdown",
      "metadata": {
        "id": "v_ThUOUG7p1q"
      },
      "source": [
        "- **Students Grades in the `\"religion\"` and `\"altarbiat_alwatania\"` are about the same, with less below succes grades in `\"religion\"`.**\n",
        "\n",
        "- **Most Students Grades in the `\"religion\"` and `\"altarbiat_alwatania\"` are below 19, and the median is above the sucess grade with 3 Grades.**\n",
        "\n",
        "\n",
        "- **Unlike Past Two Subjects Most Students Grades in `\"economics_statistics\"` is actually the Success Grades , and Most of them don't score more than 3 grades higher than the Succes Grade, Seems like it's the Hardest Subject for Students in this Category**"
      ]
    },
    {
      "cell_type": "code",
      "execution_count": null,
      "metadata": {
        "colab": {
          "base_uri": "https://localhost:8080/"
        },
        "id": "xhX48mjmugLa",
        "outputId": "68ea9da9-5ab9-4adc-d08d-32fd75b8c8c7"
      },
      "outputs": [],
      "source": [
        "(len(Literary_NotInTotal_Subjects[Literary_NotInTotal_Subjects[\"economics_statistics\"] >=30]) / len(Literary_NotInTotal_Subjects) ) * 100"
      ]
    },
    {
      "cell_type": "markdown",
      "metadata": {
        "id": "roWfH2fKugLa"
      },
      "source": [
        "- **Only 10% of students in this specialization score more than 30 in `\"economics_statistics\"`**"
      ]
    },
    {
      "cell_type": "code",
      "execution_count": null,
      "metadata": {
        "colab": {
          "base_uri": "https://localhost:8080/",
          "height": 0
        },
        "id": "gK3zhdBh67cZ",
        "outputId": "1f40738e-335c-4923-ebd9-5bb1cb8d6499"
      },
      "outputs": [],
      "source": [
        "Skew_Kurt_DF = pd.DataFrame([Literary_NotInTotal_Subjects.skew(),Literary_NotInTotal_Subjects.kurt()] , index=[\"Skewness\",\"Kurtosis\"])\n",
        "Skew_Kurt_DF"
      ]
    },
    {
      "cell_type": "markdown",
      "metadata": {
        "id": "UuTDhMVugxW6"
      },
      "source": [
        "- **In General Student Grades of Subjects that Don't Participate in Total Grade In Literary Specilization**\n",
        " - **Students Grades in the `\"religion\"` and `\"altarbiat_alwatania\"` are about the same in the second exams. and Noticably lower than First Exams Grades.**\n",
        "\n",
        " - **Most Students Grades in `\"economics_statistics\"` is actually the Success Grades, and Grades Range is only 3 Grades away from the Succes Grades, Also Noticably lower than First Exams Grades.**"
      ]
    },
    {
      "cell_type": "markdown",
      "metadata": {
        "id": "A1lDu-6a50mr"
      },
      "source": [
        "## **Main Subjects**"
      ]
    },
    {
      "cell_type": "code",
      "execution_count": null,
      "metadata": {
        "colab": {
          "base_uri": "https://localhost:8080/",
          "height": 0
        },
        "id": "QW180mz658KM",
        "outputId": "824a5065-dfb8-4b72-c66b-b0ee2169f42f"
      },
      "outputs": [],
      "source": [
        "Literary_Main_Subjects = Literary_Special_Students[[\"arabic\",\t\"first_foreign_lang\",\t\"second_foreign_lang\"]]\n",
        "Literary_Main_Subjects"
      ]
    },
    {
      "cell_type": "code",
      "execution_count": null,
      "metadata": {
        "colab": {
          "base_uri": "https://localhost:8080/",
          "height": 0
        },
        "id": "s-48NuyM58KM",
        "outputId": "1622a37e-2434-4d5f-a9e3-868a66bccdc1"
      },
      "outputs": [],
      "source": [
        "Literary_Main_Subjects.describe()"
      ]
    },
    {
      "cell_type": "code",
      "execution_count": null,
      "metadata": {
        "colab": {
          "base_uri": "https://localhost:8080/",
          "height": 542
        },
        "id": "NrcOQThQ0v1F",
        "outputId": "3ff4c0c1-233d-480a-aec2-18e782d6a5ca"
      },
      "outputs": [],
      "source": [
        "fig = make_subplots(rows=1, cols=3, specs=[[{'type':'domain'}, {'type':'domain'}, {'type':'domain'}]])\n",
        "\n",
        "fig.add_trace(go.Pie(labels=Literary_Main_Subjects[\"arabic\"].value_counts().index[:30], name='Grade'\n",
        "                     , values=Literary_Main_Subjects[\"arabic\"].value_counts().iloc[:30] ,titleposition='top left',\n",
        "                     titlefont={'size':20},title=\"Arabic\"),1, 1)\n",
        "\n",
        "fig.add_trace(go.Pie(labels=Literary_Main_Subjects[\"first_foreign_lang\"].value_counts().index[:30], name='Grade'\n",
        "                     , values=Literary_Main_Subjects[\"first_foreign_lang\"].value_counts().iloc[:30] ,\n",
        "                     titlefont={'size':20}, titleposition='top left', title=\"First foreign lang\"),1, 2)\n",
        "\n",
        "fig.add_trace(go.Pie(labels=Literary_Main_Subjects[\"second_foreign_lang\"].value_counts().index[:30], name='Grade'\n",
        "                     , values=Literary_Main_Subjects[\"second_foreign_lang\"].value_counts().iloc[:30] ,\n",
        "                     titleposition='top left' ,titlefont={'size':20},title=\"Second foreign lang\"),1, 3)\n",
        "\n",
        "fig.update_traces(textposition='inside')\n",
        "fig.update_layout(title_text=\"Scientific Specialization Main Subjects Grades\", titlefont={'size':20})\n",
        "fig.show()"
      ]
    },
    {
      "cell_type": "code",
      "execution_count": null,
      "metadata": {
        "colab": {
          "base_uri": "https://localhost:8080/",
          "height": 1000
        },
        "id": "M_97d1Ry58KN",
        "outputId": "0bc644bd-b974-4b4a-fa01-5c3f6349d22f"
      },
      "outputs": [],
      "source": [
        "fig1 = px.histogram(Literary_Main_Subjects[\"arabic\"], height=400)\n",
        "fig2 = px.histogram(Literary_Main_Subjects[\"first_foreign_lang\"], height=400)\n",
        "fig3 = px.histogram(Literary_Main_Subjects[\"second_foreign_lang\"], height=400)\n",
        "\n",
        "fig1.show()\n",
        "fig2.show()\n",
        "fig3.show()"
      ]
    },
    {
      "cell_type": "code",
      "execution_count": null,
      "metadata": {
        "colab": {
          "base_uri": "https://localhost:8080/",
          "height": 0
        },
        "id": "JHuhak0LNw_G",
        "outputId": "c5ffe45f-9f9a-437a-973f-56b708d7d050"
      },
      "outputs": [],
      "source": [
        "fig = px.histogram(Literary_Main_Subjects, title=\"Literary Specialization Maina Subjects Grades\")\n",
        "fig.show()"
      ]
    },
    {
      "cell_type": "markdown",
      "metadata": {
        "id": "cZBOygsM58KN"
      },
      "source": [
        "- **In Those Subjects Huge Number of Students Score Exactly the Success Grade about 60% of them, with more Percentage in `\"first_foreign_lang\"`.**\n",
        "\n",
        "- **Students Grades in `[\"first_foreign_lang\", \"arabic\"]` are the Lowest with Slightly higher grades in `\"second_foreign_lang\"`.**\n"
      ]
    },
    {
      "cell_type": "code",
      "execution_count": null,
      "metadata": {
        "colab": {
          "base_uri": "https://localhost:8080/",
          "height": 0
        },
        "id": "v2F-6K9S58KN",
        "outputId": "169863d7-4386-415a-ee10-7a7ac81cd2ea"
      },
      "outputs": [],
      "source": [
        "fig = px.box(Literary_Main_Subjects, title=\"Literary Specialization Main Subjects Grades\")\n",
        "fig.show() "
      ]
    },
    {
      "cell_type": "markdown",
      "metadata": {
        "id": "P4rA5IQYF4P6"
      },
      "source": [
        "- **Most Students Grades in `[\"first_foreign_lang\", \"arabic\"]` don't score Higher than the Succes Grade with 4 Grades !**\n",
        "\n",
        "- **Range of Students Grades in `[\"second_foreign_lang\"]` is Slightly better with 25% of Students Scoring higher than the Succes Grade with 6 Grades.**\n",
        "\n",
        "- **Students Grades in Main Subjects are much Lower than First Exams. Especially in `[\"first_foreign_lang\", \"arabic\"]`.**"
      ]
    },
    {
      "cell_type": "code",
      "execution_count": null,
      "metadata": {
        "colab": {
          "base_uri": "https://localhost:8080/"
        },
        "id": "pzhzzZSjtt4o",
        "outputId": "8a73d474-3a1d-43b1-aa4f-aaaa91af7bbe"
      },
      "outputs": [],
      "source": [
        "(len(Literary_Main_Subjects[Literary_Main_Subjects[\"arabic\"] >=60]) / len(Literary_Main_Subjects) ) * 100"
      ]
    },
    {
      "cell_type": "markdown",
      "metadata": {
        "id": "Rhck625EuMtW"
      },
      "source": [
        "- **Only 1% of students in literary specialization score more than 60 in `\"arabic\"`.**"
      ]
    },
    {
      "cell_type": "code",
      "execution_count": null,
      "metadata": {
        "colab": {
          "base_uri": "https://localhost:8080/",
          "height": 0
        },
        "id": "sZZ6j69C58KN",
        "outputId": "ad6d6d32-70c8-4921-e56d-1d5b6200e9e8"
      },
      "outputs": [],
      "source": [
        "Skew_Kurt_DF = pd.DataFrame([Literary_Main_Subjects.skew(),Literary_Main_Subjects.kurt()] , index=[\"Skewness\",\"Kurtosis\"])\n",
        "Skew_Kurt_DF"
      ]
    },
    {
      "cell_type": "markdown",
      "metadata": {
        "id": "XoQ-psApm-CE"
      },
      "source": [
        "- **In General Student Grades of Main Subjects In Literary Specilization**\n",
        " - **Students Grades in Main Subjects are much Lower than First Exams. Especially in `[\"first_foreign_lang\", \"arabic\"]`.**"
      ]
    },
    {
      "cell_type": "markdown",
      "metadata": {
        "id": "ZFByDzQa6Wkb"
      },
      "source": [
        "## **Specialization Subjects**"
      ]
    },
    {
      "cell_type": "code",
      "execution_count": null,
      "metadata": {
        "colab": {
          "base_uri": "https://localhost:8080/",
          "height": 424
        },
        "id": "5XvbfMOR6bZS",
        "outputId": "125bc205-56da-479c-f0fd-09b86fa1d3fe"
      },
      "outputs": [],
      "source": [
        "Literary_Specialization_Subjects = Literary_Special_Students[[\"history\",\t\"geography\",\t\"philosophy\",\t\"psychology\"]]\n",
        "Literary_Specialization_Subjects"
      ]
    },
    {
      "cell_type": "code",
      "execution_count": null,
      "metadata": {
        "colab": {
          "base_uri": "https://localhost:8080/",
          "height": 300
        },
        "id": "uPeG4PLi6bZT",
        "outputId": "c914a591-6009-49fa-8c80-a865afc3a9c0"
      },
      "outputs": [],
      "source": [
        "Literary_Specialization_Subjects.describe()"
      ]
    },
    {
      "cell_type": "code",
      "execution_count": null,
      "metadata": {
        "colab": {
          "base_uri": "https://localhost:8080/",
          "height": 542
        },
        "id": "d0NS9dhcz9Ye",
        "outputId": "6600040e-5a25-4443-bc8c-107fe1a3d2f2"
      },
      "outputs": [],
      "source": [
        "fig = make_subplots(rows=1, cols=4, specs=[[{'type':'domain'}, {'type':'domain'}, {'type':'domain'}, {'type':'domain'}]])\n",
        "\n",
        "fig.add_trace(go.Pie(labels=Literary_Specialization_Subjects[\"history\"].value_counts().index[:30], name='Grade'\n",
        "                     , values=Literary_Specialization_Subjects[\"history\"].value_counts().iloc[:30] ,titleposition='top right',\n",
        "                     titlefont={'size':20},title=\"History\"),1, 1)\n",
        "\n",
        "fig.add_trace(go.Pie(labels=Literary_Specialization_Subjects[\"geography\"].value_counts().index[:30], name='Grade'\n",
        "                     , values=Literary_Specialization_Subjects[\"geography\"].value_counts().iloc[:30] ,\n",
        "                     titlefont={'size':20}, titleposition='top right', title=\"Geography\"),1, 2)\n",
        "\n",
        "fig.add_trace(go.Pie(labels=Literary_Specialization_Subjects[\"philosophy\"].value_counts().index[:25], name='Grade'\n",
        "                     , values=Literary_Specialization_Subjects[\"philosophy\"].value_counts().iloc[:25] ,\n",
        "                     titleposition='top right' ,titlefont={'size':20},title=\"Philosophy\"),1, 3)\n",
        "\n",
        "fig.add_trace(go.Pie(labels=Literary_Specialization_Subjects[\"psychology\"].value_counts().index[:25], name='Grade'\n",
        "                     , values=Literary_Specialization_Subjects[\"psychology\"].value_counts().iloc[:25] ,\n",
        "                     titleposition='top right' ,titlefont={'size':20},title=\"Psychology\"),1, 4)\n",
        "\n",
        "fig.update_traces(textposition='inside')\n",
        "fig.update_layout(title_text=\"Literary Specialization Specialization Subjects Grades\", titlefont={'size':20})\n",
        "fig.show()"
      ]
    },
    {
      "cell_type": "code",
      "execution_count": null,
      "metadata": {
        "colab": {
          "base_uri": "https://localhost:8080/",
          "height": 817
        },
        "id": "YfieZ7iv6bZT",
        "outputId": "2675c1af-1551-4cf2-9e2a-468bdfd21994"
      },
      "outputs": [],
      "source": [
        "fig1 = px.histogram(Literary_Specialization_Subjects[\"history\"], height=400)\n",
        "fig2 = px.histogram(Literary_Specialization_Subjects[\"geography\"], height=400)\n",
        "\n",
        "fig1.show()\n",
        "fig2.show()"
      ]
    },
    {
      "cell_type": "code",
      "execution_count": null,
      "metadata": {
        "colab": {
          "base_uri": "https://localhost:8080/",
          "height": 817
        },
        "id": "rWBHB_jCJ7BG",
        "outputId": "5953ffe2-58dc-42b2-c76b-a9e301815dae"
      },
      "outputs": [],
      "source": [
        "fig1 = px.histogram(Literary_Specialization_Subjects[\"philosophy\"], height=400)\n",
        "fig2 = px.histogram(Literary_Specialization_Subjects[\"psychology\"], height=400)\n",
        "\n",
        "fig1.show()\n",
        "fig2.show()"
      ]
    },
    {
      "cell_type": "code",
      "execution_count": null,
      "metadata": {
        "colab": {
          "base_uri": "https://localhost:8080/",
          "height": 542
        },
        "id": "1Ulmi4ZldEIY",
        "outputId": "da2e808a-f58e-4bf3-af34-fb554761ea5f"
      },
      "outputs": [],
      "source": [
        "fig = px.histogram(Literary_Specialization_Subjects, title=\"Literary Specialization Specialization Subjects Grades\")\n",
        "fig.show()"
      ]
    },
    {
      "cell_type": "markdown",
      "metadata": {
        "id": "VEB2NjXAxOOs"
      },
      "source": [
        "- **Looks Like we have the Same Correlations We Saw Before**\n",
        " - **Percentage of Student that have Exactly the succes grade is the most percentage of the student in `[\"history\",\"geography\"]` with about 70% in both subjects. Compared to 40% in First Exams.**\n",
        "\n",
        " - **Also Percentage of Student that have Exactly the succes grade is the most percentage of the student in `[\"philosophy\",\"psychology\"]`but lower this time  26% in both subjects. Compared to 14% in First Exams**\n",
        " \n",
        " - **Distributions of Student Grades Seems to be the Same in `[\"history\",\"geography\"]` and Also in `[\"philosophy\",\"psychology\"]`.**"
      ]
    },
    {
      "cell_type": "code",
      "execution_count": null,
      "metadata": {
        "colab": {
          "base_uri": "https://localhost:8080/",
          "height": 542
        },
        "id": "4GB6cvM6KHA1",
        "outputId": "a8a0a8df-1ba1-4243-b893-fc2b4779937b"
      },
      "outputs": [],
      "source": [
        "fig = px.box(Literary_Specialization_Subjects, title=\"Literary Specialization Subjects Grades\")\n",
        "fig.show() "
      ]
    },
    {
      "cell_type": "markdown",
      "metadata": {
        "id": "NBXFFdbizj2S"
      },
      "source": [
        "- **in `[\"history\",\"geography\"]` Most Students Grades in is nearly the Success Grades , 75% of the students don't score 3 Grades higher from Success Grade, Seems like those are the Hardest Subject for Students in this Specialization. with `\"history\"` being a little harder this time not `\"geography\"` like First Exams.**\n",
        "\n",
        "- **Unlike Past Subjects Students Grades in `[\"philosophy\",\"psychology\"]` tend to derive more from the Succes Grade but with Mostly 10 Grades, with `\"philosophy\"` being a little more wider.**"
      ]
    },
    {
      "cell_type": "code",
      "execution_count": null,
      "metadata": {
        "colab": {
          "base_uri": "https://localhost:8080/"
        },
        "id": "GtVhMUbJ0Z1o",
        "outputId": "143781c0-f86e-47dc-f0ce-a08f068d33e6"
      },
      "outputs": [],
      "source": [
        "(len(Literary_Specialization_Subjects[Literary_Specialization_Subjects[\"history\"] >=40]) / len(Literary_Specialization_Subjects) ) * 100"
      ]
    },
    {
      "cell_type": "code",
      "execution_count": null,
      "metadata": {
        "colab": {
          "base_uri": "https://localhost:8080/"
        },
        "id": "zKbnUS_l0Z_E",
        "outputId": "28c1f87e-3da7-482e-bdd5-62bf927e00ff"
      },
      "outputs": [],
      "source": [
        "(len(Literary_Specialization_Subjects[Literary_Specialization_Subjects[\"geography\"] >=40]) / len(Literary_Specialization_Subjects) ) * 100"
      ]
    },
    {
      "cell_type": "markdown",
      "metadata": {
        "id": "Zzli3XOV0p1p"
      },
      "source": [
        "- **Only about 6 out of every 100 students in literary specialization score more than 40 in `[\"history\",\"geography\"]`.**"
      ]
    },
    {
      "cell_type": "code",
      "execution_count": null,
      "metadata": {
        "colab": {
          "base_uri": "https://localhost:8080/",
          "height": 112
        },
        "id": "NyB-vElY6bZT",
        "outputId": "a5780f95-f089-4edb-9fac-5094c9ed82c1"
      },
      "outputs": [],
      "source": [
        "Skew_Kurt_DF = pd.DataFrame([Literary_Specialization_Subjects.skew(),Literary_Specialization_Subjects.kurt()] , index=[\"Skewness\",\"Kurtosis\"])\n",
        "Skew_Kurt_DF"
      ]
    },
    {
      "cell_type": "markdown",
      "metadata": {
        "id": "n0iscW2opgNy"
      },
      "source": [
        "- **In General Student Grades of Specilization Subjects In Literary Specilization**\n",
        " - **In `[\"history\",\"geography\"]` Most Student Grades Don't Range More than 3 Grades From the Success Grade, Compared to * Grades in First Exams.**\n",
        " \n",
        " - **But In `[\"philosophy\",\"psychology\"]` Ranges are Slightly higher with Most Students Not Scoring More than about 10 Grades Higher From the Success Grade, Compared to 14 Grades in First Exams.**\n",
        " \n",
        " - **Distributions of Student Grades Seems to be the Same in `[\"history\",\"geography\"]` and Also in `[\"philosophy\",\"psychology\"]`.**"
      ]
    },
    {
      "cell_type": "markdown",
      "metadata": {
        "id": "2xH8aYti682v"
      },
      "source": [
        "# **Scientific Specialization Analysis**"
      ]
    },
    {
      "cell_type": "markdown",
      "metadata": {
        "id": "HW-yJRU82e4F"
      },
      "source": [
        "## **General Analysis for Specialization**"
      ]
    },
    {
      "cell_type": "code",
      "execution_count": null,
      "metadata": {
        "colab": {
          "base_uri": "https://localhost:8080/",
          "height": 661
        },
        "id": "1R2wyOLI2e4F",
        "outputId": "378f9d96-5358-46fd-d887-fdfb86afb149"
      },
      "outputs": [],
      "source": [
        "Scientific_Special_Students"
      ]
    },
    {
      "cell_type": "code",
      "execution_count": null,
      "metadata": {
        "colab": {
          "base_uri": "https://localhost:8080/",
          "height": 364
        },
        "id": "4SsZ0Qp12e4G",
        "outputId": "91cfbe47-2430-43cc-e4b1-fd75cf3bdfde"
      },
      "outputs": [],
      "source": [
        "Scientific_Special_Students.describe()"
      ]
    },
    {
      "cell_type": "markdown",
      "metadata": {
        "id": "pSoEbqdY2e4G"
      },
      "source": [
        "- **About 75% of the Students in this Specialization have higher than 52% Percentage Grade, About the Same Percentage with Literary Specialization.**\n",
        "\n",
        "- **And Only About 25% of the Students in this Specialization have higher than 59% Percentage Grade, Also About the Same Percentage with Literary Specialization. But way Lower Comapered to First Exams 78% !**\n",
        "\n",
        "- **Most Student Grades in this Specialization are more above the Success Grade.**\n",
        "\n",
        "- **Highest Total Grade in this Specialization is also 392 (95.6%). Compared to 89% with Literary Specialization.**  \n"
      ]
    },
    {
      "cell_type": "code",
      "execution_count": null,
      "metadata": {
        "colab": {
          "base_uri": "https://localhost:8080/",
          "height": 175
        },
        "id": "nfnDErfA2e4G",
        "outputId": "4eb24caa-83a0-4039-b756-80869075ec69"
      },
      "outputs": [],
      "source": [
        "Scientific_Special_Students.describe(include=\"category\")"
      ]
    },
    {
      "cell_type": "markdown",
      "metadata": {
        "id": "H198CLHh2e4G"
      },
      "source": [
        "- **Most Frquent Values are the Same Compared to First Exams**\n",
        " - **Most School that has Scientific Specialization Students is** `\"السعيدية الثانوية العسكرية\"`\n",
        "\n",
        " - **Most City that has Scientific Specialization Students is also** `\"المنتزه\"`\n",
        "\n",
        " - **Most Goverment that has Scientific Specialization Students is also Cairo** `\"القاهرة\"`\n",
        "\n",
        " - **Most Students in the Scientific Specialization are also** `Females` \n"
      ]
    },
    {
      "cell_type": "code",
      "execution_count": null,
      "metadata": {
        "colab": {
          "base_uri": "https://localhost:8080/"
        },
        "id": "Cu0JTF2X2e4G",
        "outputId": "a308761a-a90f-42f5-c6d1-d879fa900be3"
      },
      "outputs": [],
      "source": [
        "Scientific_Special_Students.info()"
      ]
    },
    {
      "cell_type": "code",
      "execution_count": null,
      "metadata": {
        "colab": {
          "base_uri": "https://localhost:8080/"
        },
        "id": "ke09S-aHt2_9",
        "outputId": "a320730c-3017-46db-f1bd-64eb1daea1ec"
      },
      "outputs": [],
      "source": [
        "len(Literary_Special_Students) / (len(Literary_Special_Students) + len(Scientific_Special_Students)) * 100"
      ]
    },
    {
      "cell_type": "code",
      "execution_count": null,
      "metadata": {
        "colab": {
          "base_uri": "https://localhost:8080/"
        },
        "id": "dHyKgD0FTsft",
        "outputId": "fc221052-d19b-44dc-ff04-213af7085970"
      },
      "outputs": [],
      "source": [
        "(len(Literary_Special_Students) + len(Scientific_Special_Students)) "
      ]
    },
    {
      "cell_type": "code",
      "execution_count": null,
      "metadata": {
        "colab": {
          "base_uri": "https://localhost:8080/"
        },
        "id": "Z_zp451cuC2l",
        "outputId": "40c75c13-b78f-4f49-a5ce-dc1efaacac83"
      },
      "outputs": [],
      "source": [
        "len(Scientific_Special_Students) / (len(Literary_Special_Students) + len(Scientific_Special_Students)) * 100"
      ]
    },
    {
      "cell_type": "markdown",
      "metadata": {
        "id": "LYEkfbMD2e4G"
      },
      "source": [
        "- **We have 80530 Students in the Scientific Specialization that took the Second Exams, About 160,000 More Students than Literary Specialization.**"
      ]
    },
    {
      "cell_type": "markdown",
      "metadata": {
        "id": "eTooQHd9t-hd"
      },
      "source": [
        "- **52% of Students that took the Secoond Exams are in the Scientific Specialization, Compared to 62% in First Exams.**"
      ]
    },
    {
      "cell_type": "markdown",
      "metadata": {
        "id": "RIlVpBc82e4G"
      },
      "source": [
        "## **Let's Analyze Absent Students (value = 0), Passed Students(value= -1)**"
      ]
    },
    {
      "cell_type": "markdown",
      "metadata": {
        "id": "KoWyj87EOczp"
      },
      "source": [
        "### **Absent Students**"
      ]
    },
    {
      "cell_type": "code",
      "execution_count": null,
      "metadata": {
        "colab": {
          "base_uri": "https://localhost:8080/",
          "height": 661
        },
        "id": "RUHSoqML2e4G",
        "outputId": "7a0775c7-5b64-4092-8418-40f0f3713b67"
      },
      "outputs": [],
      "source": [
        "Scientific_Special_AbsentStudents = Scientific_Special_Students[Scientific_Special_Students.isin([0]).values].drop_duplicates()\n",
        "Scientific_Special_AbsentStudents"
      ]
    },
    {
      "cell_type": "markdown",
      "metadata": {
        "id": "tUkUSz2D2e4G"
      },
      "source": [
        "- **About 901  Students in the Scientific Specialization were absent in atleast one exam. About 400 Students more than Literary Specialization**"
      ]
    },
    {
      "cell_type": "code",
      "execution_count": null,
      "metadata": {
        "colab": {
          "base_uri": "https://localhost:8080/"
        },
        "id": "YlNGjrHE2Taw",
        "outputId": "5c303f42-feb9-4109-e457-66d6165d0a7a"
      },
      "outputs": [],
      "source": [
        "(len(Scientific_Special_AbsentStudents) / len(Scientific_Special_Students)) * 100"
      ]
    },
    {
      "cell_type": "markdown",
      "metadata": {
        "id": "oPbpYPBp2nGH"
      },
      "source": [
        "- **about 1% of Students in this Specialization**"
      ]
    },
    {
      "cell_type": "code",
      "execution_count": null,
      "metadata": {
        "colab": {
          "base_uri": "https://localhost:8080/",
          "height": 300
        },
        "id": "JcbwxaGl2e4H",
        "outputId": "a4ddf3fb-35db-42b1-9df9-d59aaeacbd29"
      },
      "outputs": [],
      "source": [
        "Scientific_Special_AbsentStudents.describe()"
      ]
    },
    {
      "cell_type": "markdown",
      "metadata": {
        "id": "FGtmmP4swZQT"
      },
      "source": [
        "- **As Expected Absent Students Don't Have Great Grades, Especially in Second Exams, Most of them don't score the succes grade !, Only 25% of them score it nearly.**"
      ]
    },
    {
      "cell_type": "code",
      "execution_count": null,
      "metadata": {
        "colab": {
          "base_uri": "https://localhost:8080/",
          "height": 175
        },
        "id": "n2KB1xhh2e4H",
        "outputId": "4c5f97d3-ac4e-495f-eec9-984b5b05c7c5"
      },
      "outputs": [],
      "source": [
        "Scientific_Special_AbsentStudents.describe(include=\"category\")"
      ]
    },
    {
      "cell_type": "markdown",
      "metadata": {
        "id": "2PI8XbZg2e4H"
      },
      "source": [
        "- **Most Frequent Categroical Values that appeared in all specialization students appears to be diffrent in City, `\"اسيوط\"` has most absent students in the Scientific specialization.**"
      ]
    },
    {
      "cell_type": "markdown",
      "metadata": {
        "id": "EU7xQJwI2e4H"
      },
      "source": [
        "\n",
        "\n",
        "---\n",
        "\n"
      ]
    },
    {
      "cell_type": "markdown",
      "metadata": {
        "id": "BrIwnxptOijB"
      },
      "source": [
        "### **Passed Students**"
      ]
    },
    {
      "cell_type": "code",
      "execution_count": null,
      "metadata": {
        "colab": {
          "base_uri": "https://localhost:8080/",
          "height": 661
        },
        "id": "jxKjD13h2e4H",
        "outputId": "79d89d6c-c426-4cd1-bd1a-41a300758799"
      },
      "outputs": [],
      "source": [
        "Scientific_Special_PassedStudents = Scientific_Special_Students[Scientific_Special_Students.isin([-1]).values].drop_duplicates()\n",
        "Scientific_Special_PassedStudents"
      ]
    },
    {
      "cell_type": "markdown",
      "metadata": {
        "id": "pxOxsOhK2e4H"
      },
      "source": [
        "- **About 18,280 Students in the Scientific Specialization Nearly Passed Subjects that don't participate in the total grade in the second exams. About 4000 Students more than Literary Specialization.**\n"
      ]
    },
    {
      "cell_type": "code",
      "execution_count": null,
      "metadata": {
        "colab": {
          "base_uri": "https://localhost:8080/",
          "height": 364
        },
        "id": "6YeNzV5d2e4H",
        "outputId": "95327efe-53b1-42b0-da4d-baf0d4ab2d8d"
      },
      "outputs": [],
      "source": [
        "Scientific_Special_PassedStudents.describe()"
      ]
    },
    {
      "cell_type": "markdown",
      "metadata": {
        "id": "md6dMQd7wbb7"
      },
      "source": [
        "- **Interstingly Not All Passed Students have bad Grades one of them got 92% ! , Way More Than Highest Passed Student in Literary Specicalization(80%)**"
      ]
    },
    {
      "cell_type": "code",
      "execution_count": null,
      "metadata": {
        "colab": {
          "base_uri": "https://localhost:8080/",
          "height": 175
        },
        "id": "47pJN88b2e4H",
        "outputId": "a2d507fa-8535-4c7d-9291-87ef319632d1"
      },
      "outputs": [],
      "source": [
        "Scientific_Special_PassedStudents.describe(include=\"category\")"
      ]
    },
    {
      "cell_type": "markdown",
      "metadata": {
        "id": "6amwWEJ_2e4H"
      },
      "source": [
        "- **Also, Most Frequent Categroical Values that appeared in all specialization students appears to be diffrent in City, `\"الجيزة\"` has most nearly passed students in the literary specialization.**"
      ]
    },
    {
      "cell_type": "markdown",
      "metadata": {
        "id": "v08WF3W12e4H"
      },
      "source": [
        "## **In Subjects, Let's Start with Subjects that don't Participate in Total Grade**"
      ]
    },
    {
      "cell_type": "code",
      "execution_count": null,
      "metadata": {
        "colab": {
          "base_uri": "https://localhost:8080/",
          "height": 424
        },
        "id": "lVUCCi4F2e4H",
        "outputId": "c0bcf706-a572-4636-ee5c-a6c3145225af"
      },
      "outputs": [],
      "source": [
        "Scientific_NotInTotal_Subjects = Scientific_Special_Students[[\"religion\",\t\"altarbiat_alwatania\",\"economics_statistics\"]]\n",
        "Scientific_NotInTotal_Subjects"
      ]
    },
    {
      "cell_type": "code",
      "execution_count": null,
      "metadata": {
        "colab": {
          "base_uri": "https://localhost:8080/",
          "height": 300
        },
        "id": "JMy4yZi-2e4I",
        "outputId": "7a6cae9e-b15e-4b93-9b07-bba0123e9e2b"
      },
      "outputs": [],
      "source": [
        "Scientific_NotInTotal_Subjects.describe()"
      ]
    },
    {
      "cell_type": "code",
      "execution_count": null,
      "metadata": {
        "colab": {
          "base_uri": "https://localhost:8080/",
          "height": 542
        },
        "id": "z0xwlY0SA_rH",
        "outputId": "6c6aaada-6300-4aa9-96e8-c954cc9b59f3"
      },
      "outputs": [],
      "source": [
        "# Create subplots: use 'domain' type for Pie subplot\n",
        "\n",
        "fig = make_subplots(rows=1, cols=3, specs=[[{'type':'domain'}, {'type':'domain'}, {'type':'domain'}]])\n",
        "\n",
        "fig.add_trace(go.Pie(labels=Scientific_NotInTotal_Subjects[\"religion\"].replace(-1,\"Pass\").value_counts().replace(-1,\"Pass\").index[:15], name='Grade'\n",
        "                     , values=Scientific_NotInTotal_Subjects[\"religion\"].replace(-1,\"Pass\").value_counts().iloc[:15] ,titleposition='top left',\n",
        "                     titlefont={'size':20}, title=\"Religion\"),1, 1)\n",
        "\n",
        "fig.add_trace(go.Pie(labels=Scientific_NotInTotal_Subjects[\"altarbiat_alwatania\"].replace(-1,\"Pass\").value_counts().index[:15], name='Grade'\n",
        "                     , values=Scientific_NotInTotal_Subjects[\"altarbiat_alwatania\"].replace(-1,\"Pass\").value_counts().iloc[:15] ,titlefont={'size':20},\n",
        "                     titleposition='top left', title=\"Altarbiat Alwatania\"),1, 2)\n",
        "\n",
        "fig.add_trace(go.Pie(labels=Scientific_NotInTotal_Subjects[\"economics_statistics\"].replace(-1,\"Pass\").value_counts().index[:15], name='Grade'\n",
        "                     , values=Scientific_NotInTotal_Subjects[\"economics_statistics\"].replace(-1,\"Pass\").value_counts().iloc[:15] ,titleposition='top left' ,\n",
        "                     titlefont={'size':20}, title=\"Economics Statistics\"),1, 3)\n",
        "\n",
        "fig.update_traces(textposition='inside')\n",
        "fig.update_layout(title_text=\"Scientific Specialization Not in Total Subjects Grades\", titlefont={'size':20})\n",
        "fig.show()"
      ]
    },
    {
      "cell_type": "code",
      "execution_count": null,
      "metadata": {
        "colab": {
          "base_uri": "https://localhost:8080/",
          "height": 1000
        },
        "id": "bZb4vkJQFWf1",
        "outputId": "e3243cdf-3883-4d7d-c993-e87e54b2bd77"
      },
      "outputs": [],
      "source": [
        "fig1 = px.histogram(Scientific_NotInTotal_Subjects[\"religion\"], height=400)\n",
        "fig2 = px.histogram(Scientific_NotInTotal_Subjects[\"altarbiat_alwatania\"], height=400)\n",
        "fig3 = px.histogram(Scientific_NotInTotal_Subjects[\"economics_statistics\"], height=400)\n",
        "\n",
        "fig1.show()\n",
        "fig2.show()\n",
        "fig3.show()"
      ]
    },
    {
      "cell_type": "code",
      "execution_count": null,
      "metadata": {
        "colab": {
          "base_uri": "https://localhost:8080/",
          "height": 542
        },
        "id": "K8M6kKTSFWZZ",
        "outputId": "ef66011c-e4f4-4597-f9cc-d2b9a58814cd"
      },
      "outputs": [],
      "source": [
        "fig = px.histogram(Scientific_NotInTotal_Subjects, title=\"Scientific Specialization Not in Total Subjects Grades\")\n",
        "fig.show()"
      ]
    },
    {
      "cell_type": "markdown",
      "metadata": {
        "id": "9mKULfqZDiQG"
      },
      "source": [
        "- **Noticable Number of Students got the Pass Grade about 23% in all these subjects.** \n",
        "\n",
        "- **Student Grads in `[\"religion\"]` Seems to be Slighlty higher than `[\"altarbiat_alwatania\"]`.**\n",
        "\n",
        "- **But in `\"economics_statistics\"` the Highest Frequent Grade is the Success grade and Second Highest is the Pass Grade.**"
      ]
    },
    {
      "cell_type": "code",
      "execution_count": null,
      "metadata": {
        "colab": {
          "base_uri": "https://localhost:8080/",
          "height": 542
        },
        "id": "QhP1_34KG4wU",
        "outputId": "d6dd0dd8-32f5-47bb-ec82-6fa8473fc26e"
      },
      "outputs": [],
      "source": [
        "fig = px.box(Scientific_NotInTotal_Subjects, title=\"Scientific Specialization Not in Total Subjects Grades\")\n",
        "fig.show() "
      ]
    },
    {
      "cell_type": "markdown",
      "metadata": {
        "id": "q4dwuVvAHqyC"
      },
      "source": [
        "- **Students Grades in the `\"religion\"` and `\"altarbiat_alwatania\"` are about the same, with less below succes grades in `\"religion\"`.**\n",
        "\n",
        "- **Students Grades in the `\"religion\"` are higher in Scientific Specilization from Literary, and Slightly lower in `\"altarbiat_alwatania\"`.**\n",
        "\n",
        "\n",
        "- **In `\"economics_statistics\"` Students Grades are slighlty wider in range in Scientific Specilization from Literary, With More Students being able to score more than the Success Grade.**"
      ]
    },
    {
      "cell_type": "code",
      "execution_count": null,
      "metadata": {
        "colab": {
          "base_uri": "https://localhost:8080/"
        },
        "id": "zm6bAKpe2e4I",
        "outputId": "bfc2be04-fe7b-4824-8472-327b18968d15"
      },
      "outputs": [],
      "source": [
        "(len(Scientific_NotInTotal_Subjects[Scientific_NotInTotal_Subjects[\"economics_statistics\"] >=30]) / len(Scientific_NotInTotal_Subjects) ) * 100"
      ]
    },
    {
      "cell_type": "markdown",
      "metadata": {
        "id": "FZYQjbkB2e4J"
      },
      "source": [
        "- **22% of students score more than 40 in `\"economics_statistics\"`, Compared to 10% only in Literary Specialization.**"
      ]
    },
    {
      "cell_type": "code",
      "execution_count": null,
      "metadata": {
        "colab": {
          "base_uri": "https://localhost:8080/",
          "height": 112
        },
        "id": "qEEsYhkP2e4J",
        "outputId": "8cf57ccc-2ab5-47df-cbdb-faf4bbfc8716"
      },
      "outputs": [],
      "source": [
        "Skew_Kurt_DF = pd.DataFrame([Scientific_NotInTotal_Subjects.skew(),Scientific_NotInTotal_Subjects.kurt()] , index=[\"Skewness\",\"Kurtosis\"])\n",
        "Skew_Kurt_DF"
      ]
    },
    {
      "cell_type": "markdown",
      "metadata": {
        "id": "EFwe3UEbGhBS"
      },
      "source": [
        "- **In General Student Grades of Subjects that Don't Participate in Total Grade In Scientific Specilization**\n",
        "\n",
        " - **Students Grades in the `\"religion\"` are Slightly higher in Scientific Specilization from Literary, and Slightly lower in `\"altarbiat_alwatania\"`.** \n",
        "\n",
        " - **Scientific Specialization Students Grades in `\"economics_statistics\"` are Slighly Higher than Literary Specialization Students.**\n",
        " - **Students Grades in these Subjects are Noticably Lower than First Exams. Especially in `\"economics_statistics\"`.**"
      ]
    },
    {
      "cell_type": "markdown",
      "metadata": {
        "id": "NYA0ewaa2e4J"
      },
      "source": [
        "## **Main Subjects**"
      ]
    },
    {
      "cell_type": "code",
      "execution_count": null,
      "metadata": {
        "colab": {
          "base_uri": "https://localhost:8080/",
          "height": 424
        },
        "id": "NRsSrf6O2e4J",
        "outputId": "22a08963-bf3a-4f22-d4d0-3d80e470ada4"
      },
      "outputs": [],
      "source": [
        "Scientific_Main_Subjects = Scientific_Special_Students[[\"arabic\",\t\"first_foreign_lang\",\t\"second_foreign_lang\"]]\n",
        "Scientific_Main_Subjects"
      ]
    },
    {
      "cell_type": "code",
      "execution_count": null,
      "metadata": {
        "colab": {
          "base_uri": "https://localhost:8080/",
          "height": 300
        },
        "id": "jvq6rTgG2e4J",
        "outputId": "5927428f-7a77-4b54-dbfb-a6e3ad3d52ba"
      },
      "outputs": [],
      "source": [
        "Scientific_Main_Subjects.describe()"
      ]
    },
    {
      "cell_type": "code",
      "execution_count": null,
      "metadata": {
        "colab": {
          "base_uri": "https://localhost:8080/",
          "height": 542
        },
        "id": "xiFWbjMZLpuv",
        "outputId": "d723ed69-a1ab-4181-d304-bebcc741ff2e"
      },
      "outputs": [],
      "source": [
        "fig = make_subplots(rows=1, cols=3, specs=[[{'type':'domain'}, {'type':'domain'}, {'type':'domain'}]])\n",
        "\n",
        "fig.add_trace(go.Pie(labels=Scientific_Main_Subjects[\"arabic\"].value_counts().index[:25], name='Grade'\n",
        "                     , values=Scientific_Main_Subjects[\"arabic\"].value_counts().iloc[:25] ,titleposition='top left',\n",
        "                     titlefont={'size':20},title=\"Arabic\"),1, 1)\n",
        "\n",
        "fig.add_trace(go.Pie(labels=Scientific_Main_Subjects[\"first_foreign_lang\"].value_counts().index[:25], name='Grade'\n",
        "                     , values=Scientific_Main_Subjects[\"first_foreign_lang\"].value_counts().iloc[:25] ,\n",
        "                     titlefont={'size':20}, titleposition='top left', title=\"First foreign lang\"),1, 2)\n",
        "\n",
        "fig.add_trace(go.Pie(labels=Scientific_Main_Subjects[\"second_foreign_lang\"].value_counts().index[:20], name='Grade'\n",
        "                     , values=Scientific_Main_Subjects[\"second_foreign_lang\"].value_counts().iloc[:20] ,\n",
        "                     titleposition='top left' ,titlefont={'size':20},title=\"Second foreign lang\"),1, 3)\n",
        "\n",
        "fig.update_traces(textposition='inside')\n",
        "fig.update_layout(title_text=\"Scientific Specialization Main Subjects Grades\", titlefont={'size':20})\n",
        "fig.show()"
      ]
    },
    {
      "cell_type": "code",
      "execution_count": null,
      "metadata": {
        "colab": {
          "base_uri": "https://localhost:8080/",
          "height": 1000
        },
        "id": "YiYIL0GRNOem",
        "outputId": "6cb71450-fb64-4938-8b3d-7fa7410e5c7d"
      },
      "outputs": [],
      "source": [
        "fig1 = px.histogram(Scientific_Main_Subjects[\"arabic\"], height=400)\n",
        "fig2 = px.histogram(Scientific_Main_Subjects[\"first_foreign_lang\"], height=400)\n",
        "fig3 = px.histogram(Scientific_Main_Subjects[\"second_foreign_lang\"], height=400)\n",
        "\n",
        "fig1.show()\n",
        "fig2.show()\n",
        "fig3.show()"
      ]
    },
    {
      "cell_type": "code",
      "execution_count": null,
      "metadata": {
        "colab": {
          "base_uri": "https://localhost:8080/",
          "height": 542
        },
        "id": "u9z4czndOCSe",
        "outputId": "ff81701e-63af-4309-f5dd-37a65e85e96f"
      },
      "outputs": [],
      "source": [
        "fig = px.histogram(Scientific_Main_Subjects, title=\"Scientific Specialization Maina Subjects Grades\")\n",
        "fig.show()"
      ]
    },
    {
      "cell_type": "markdown",
      "metadata": {
        "id": "docuZR2vOSz-"
      },
      "source": [
        "- **In Those Subjects Huge Number of Students Score Exactly the Success Grade about 30% of them, with nearly half the Students in `\"first_foreign_lang\"`.**\n",
        "\n",
        "- **Students Grades in `\"first_foreign_lang\"` are the Lowest with Slightly higher grades in `\"arabic\"` and more Slightly higher in `\"second_foreign_lang\"`.**\n",
        "\n"
      ]
    },
    {
      "cell_type": "code",
      "execution_count": null,
      "metadata": {
        "colab": {
          "base_uri": "https://localhost:8080/",
          "height": 542
        },
        "id": "7DjZj__jNOcG",
        "outputId": "d4856ea8-8560-4105-a320-db569c086faa"
      },
      "outputs": [],
      "source": [
        "fig = px.box(Scientific_Main_Subjects, title=\"Scientific Science Sub-Specialization Main Subjects Grades\")\n",
        "fig.show() "
      ]
    },
    {
      "cell_type": "markdown",
      "metadata": {
        "id": "bQujIAj1QcCk"
      },
      "source": [
        "- **50% of  Students Grades in `[\"first_foreign_lang\", \"arabic\"]` don't score Higher than the Succes Grade with 4 Grades. Compared to 75% in Literary Specialization.**\n",
        "\n",
        "- **Range of Students Grades in `[\"second_foreign_lang\"]` is Slightly better with 25% of Students Scoring higher than the Succes Grade with 11 Grades. Compared to 6 grades only in Literary Specialization.**\n",
        "\n",
        "- **Students Grades in Main Subjects are much Lower than First Exams. Especially in `[\"first_foreign_lang\", \"arabic\"]`.**"
      ]
    },
    {
      "cell_type": "code",
      "execution_count": null,
      "metadata": {
        "colab": {
          "base_uri": "https://localhost:8080/"
        },
        "id": "vmRwY75V2e4K",
        "outputId": "8a23a078-9caf-411c-f710-e4133820957c"
      },
      "outputs": [],
      "source": [
        "(len(Scientific_Main_Subjects[Scientific_Main_Subjects[\"arabic\"] >=60]) / len(Scientific_Main_Subjects) ) * 100"
      ]
    },
    {
      "cell_type": "markdown",
      "metadata": {
        "id": "gZpPYlYf2e4K"
      },
      "source": [
        "- **About 5% of students in Scientific Specialization score more than 60 in `\"arabic\"`. Compared to Only 1% percent in Literary Specialization.**"
      ]
    },
    {
      "cell_type": "code",
      "execution_count": null,
      "metadata": {
        "colab": {
          "base_uri": "https://localhost:8080/",
          "height": 112
        },
        "id": "m5UFbAGF2e4K",
        "outputId": "5de63536-d725-4579-b07a-36e19b2dc405"
      },
      "outputs": [],
      "source": [
        "Skew_Kurt_DF = pd.DataFrame([Scientific_Main_Subjects.skew(),Scientific_Main_Subjects.kurt()] , index=[\"Skewness\",\"Kurtosis\"])\n",
        "Skew_Kurt_DF"
      ]
    },
    {
      "cell_type": "markdown",
      "metadata": {
        "id": "sCn25l3MMSzU"
      },
      "source": [
        "- **In General Student Grades of Main Subjects In Literary Specilization**\n",
        "\n",
        " - **Scientific Specialization Students Grades in Main Subjects are Noticably higher than Literary Specialization, More Wider in Grades Range.**\n",
        "\n",
        " - **Students Grades in Main Subjects are much Lower than First Exams. Especially in `[\"first_foreign_lang\", \"arabic\"]`.**"
      ]
    },
    {
      "cell_type": "markdown",
      "metadata": {
        "id": "2POxl4eZ2e4K"
      },
      "source": [
        "## **Specialization Subjects**"
      ]
    },
    {
      "cell_type": "code",
      "execution_count": null,
      "metadata": {
        "colab": {
          "base_uri": "https://localhost:8080/",
          "height": 424
        },
        "id": "5KEoIG132e4K",
        "outputId": "71ccc357-2c8f-45c2-e5af-aa2394f6fb6d"
      },
      "outputs": [],
      "source": [
        "Scientific_Specialization_Subjects = Scientific_Special_Students[[\"chemistry\",\t\"physics\"]]\n",
        "Scientific_Specialization_Subjects"
      ]
    },
    {
      "cell_type": "code",
      "execution_count": null,
      "metadata": {
        "colab": {
          "base_uri": "https://localhost:8080/",
          "height": 300
        },
        "id": "oirFGgBF2e4K",
        "outputId": "75c614f9-24ff-4684-a5df-b02fa4d08b88"
      },
      "outputs": [],
      "source": [
        "Scientific_Specialization_Subjects.describe()"
      ]
    },
    {
      "cell_type": "code",
      "execution_count": null,
      "metadata": {
        "colab": {
          "base_uri": "https://localhost:8080/",
          "height": 542
        },
        "id": "N9jj5ljndYGI",
        "outputId": "ff726313-d2eb-44f1-c070-c13dadc3917d"
      },
      "outputs": [],
      "source": [
        "fig = make_subplots(rows=1, cols=2, specs=[[{'type':'domain'}, {'type':'domain'}]])\n",
        "\n",
        "fig.add_trace(go.Pie(labels=Scientific_Specialization_Subjects[\"chemistry\"].value_counts().index[:25], name='Grade'\n",
        "                     , values=Scientific_Specialization_Subjects[\"chemistry\"].value_counts().iloc[:25] ,titleposition='top right',\n",
        "                     titlefont={'size':20},title=\"Chemistry\"),1, 1)\n",
        "\n",
        "fig.add_trace(go.Pie(labels=Scientific_Specialization_Subjects[\"physics\"].value_counts().index[:25], name='Grade'\n",
        "                     , values=Scientific_Specialization_Subjects[\"physics\"].value_counts().iloc[:25] ,\n",
        "                     titlefont={'size':20}, titleposition='top right', title=\"Physics\"),1, 2)\n",
        "\n",
        "fig.update_traces(textposition='inside')\n",
        "fig.update_layout(title_text=\"Scientific Specialization Specialization Subjects Grades\", titlefont={'size':20})\n",
        "fig.show()"
      ]
    },
    {
      "cell_type": "code",
      "execution_count": null,
      "metadata": {
        "colab": {
          "base_uri": "https://localhost:8080/",
          "height": 817
        },
        "id": "Wbtd6gvtfULH",
        "outputId": "11f2c911-77c7-406f-c71b-971aa09dfdec"
      },
      "outputs": [],
      "source": [
        "fig1 = px.histogram(Scientific_Specialization_Subjects[\"chemistry\"], height=400)\n",
        "fig2 = px.histogram(Scientific_Specialization_Subjects[\"physics\"], height=400)\n",
        "\n",
        "fig1.show()\n",
        "fig2.show()"
      ]
    },
    {
      "cell_type": "code",
      "execution_count": null,
      "metadata": {
        "colab": {
          "base_uri": "https://localhost:8080/",
          "height": 542
        },
        "id": "TSXy7sENfUIf",
        "outputId": "43cfb1a5-8c24-449d-d3f3-1846160841fb"
      },
      "outputs": [],
      "source": [
        "fig = px.histogram(Scientific_Specialization_Subjects, title=\"Scientific Specialization Specialization Subjects Grades\")\n",
        "fig.show()"
      ]
    },
    {
      "cell_type": "markdown",
      "metadata": {
        "id": "Ix6ndQOZ2e4L"
      },
      "source": [
        "- **in `\"chemistry\"` Percentage of Student that have Exactly the succes grade is 70%, Where it's noticably bigger in `\"physics\"` 80%.**\n",
        "\n",
        "- **Compared to First Exams the percent is way smaller, in `\"chemistry\"` it was 22%, and it was 34% in `\"physics\"` .**\n"
      ]
    },
    {
      "cell_type": "code",
      "execution_count": null,
      "metadata": {
        "colab": {
          "base_uri": "https://localhost:8080/",
          "height": 542
        },
        "id": "QyG8fdnAypwm",
        "outputId": "7b22a538-facd-48ad-950c-d78ad8df4195"
      },
      "outputs": [],
      "source": [
        "fig = px.box(Scientific_Specialization_Subjects, title=\"Literary Specialization Subjects Grades\")\n",
        "fig.show() "
      ]
    },
    {
      "cell_type": "markdown",
      "metadata": {
        "id": "my9KO0P92e4L"
      },
      "source": [
        "- **in `\"chemistry\"` Most Student Grades don't Score 2 Grades higher than the success grade.**\n",
        "\n",
        "- **Where in `\"physics\"` Nearly all the Students Score about the Success Grade.**\n"
      ]
    },
    {
      "cell_type": "code",
      "execution_count": null,
      "metadata": {
        "colab": {
          "base_uri": "https://localhost:8080/"
        },
        "id": "62dFgZsM2e4L",
        "outputId": "f25a1cbe-37fe-4a5f-840d-bfeaf473b618"
      },
      "outputs": [],
      "source": [
        "(len(Scientific_Specialization_Subjects[Scientific_Specialization_Subjects[\"chemistry\"] >=40]) / len(Scientific_Specialization_Subjects) ) * 100"
      ]
    },
    {
      "cell_type": "code",
      "execution_count": null,
      "metadata": {
        "colab": {
          "base_uri": "https://localhost:8080/"
        },
        "id": "gF6CFnIM2e4L",
        "outputId": "f5bb2ee7-96e8-4703-991c-047c9a9ad58e"
      },
      "outputs": [],
      "source": [
        "(len(Scientific_Specialization_Subjects[Scientific_Specialization_Subjects[\"physics\"] >=40]) / len(Scientific_Specialization_Subjects) ) * 100"
      ]
    },
    {
      "cell_type": "markdown",
      "metadata": {
        "id": "15Hq5p0b2e4L"
      },
      "source": [
        "- **Percentage of Students in Scientific Specialization That Score More than 40 Grades in `\"chemistry\"` are Higher with 3% Students, Than Percent of of Students That Score More than 40 Grades in `\"physics\"`.**"
      ]
    },
    {
      "cell_type": "code",
      "execution_count": null,
      "metadata": {
        "colab": {
          "base_uri": "https://localhost:8080/",
          "height": 112
        },
        "id": "SdjuO0Pj2e4L",
        "outputId": "ce4372e1-e772-49f4-9bf1-e4fff8c29650"
      },
      "outputs": [],
      "source": [
        "Skew_Kurt_DF = pd.DataFrame([Scientific_Specialization_Subjects.skew(),Scientific_Specialization_Subjects.kurt()] , index=[\"Skewness\",\"Kurtosis\"])\n",
        "Skew_Kurt_DF"
      ]
    },
    {
      "cell_type": "markdown",
      "metadata": {
        "id": "FkPzIT8iTBUv"
      },
      "source": [
        "- **In General Student Grades of Specilization Subjects In Scientific Specilization**\n",
        " - **Student Grades in `\"chemistry\"` are Slightly Higher Than Grades in `\"physics\"`**\n",
        "\n",
        " - **Students Grades in Scientific Specialization Subjects are much Lower than First Exams. Especially in `\"physics\"`.**"
      ]
    },
    {
      "cell_type": "markdown",
      "metadata": {
        "id": "r0OtQBd97C8I"
      },
      "source": [
        "# **Scientific Science Sub-Specialization Analysis**"
      ]
    },
    {
      "cell_type": "markdown",
      "metadata": {
        "id": "1Al7TdC3UAFc"
      },
      "source": [
        "## **General Analysis for Specialization**"
      ]
    },
    {
      "cell_type": "code",
      "execution_count": null,
      "metadata": {
        "colab": {
          "base_uri": "https://localhost:8080/",
          "height": 661
        },
        "id": "ARP0XbdVUAFd",
        "outputId": "d7c5460b-71cd-48d8-b782-99b177d1b875"
      },
      "outputs": [],
      "source": [
        "Science_SubSpecial_Students"
      ]
    },
    {
      "cell_type": "code",
      "execution_count": null,
      "metadata": {
        "colab": {
          "base_uri": "https://localhost:8080/",
          "height": 364
        },
        "id": "wXeI5hg5UAFd",
        "outputId": "10b8ec0b-5523-4122-bfcd-fe9f3518d05a"
      },
      "outputs": [],
      "source": [
        "Science_SubSpecial_Students.describe()"
      ]
    },
    {
      "cell_type": "markdown",
      "metadata": {
        "id": "VjT8X5N5UAFd"
      },
      "source": [
        "- **Highest Total Grade in Scientific Specialization was in this Sub-Specialization is only 392 (95.6%).**  \n"
      ]
    },
    {
      "cell_type": "code",
      "execution_count": null,
      "metadata": {
        "colab": {
          "base_uri": "https://localhost:8080/",
          "height": 175
        },
        "id": "lpV6V78UUAFd",
        "outputId": "4871d75b-b607-4e34-c4a1-6b72520bec4d"
      },
      "outputs": [],
      "source": [
        "Science_SubSpecial_Students.describe(include=\"category\")"
      ]
    },
    {
      "cell_type": "markdown",
      "metadata": {
        "id": "AGCuajUDUAFd"
      },
      "source": [
        "- **Since Most of the Scientific Specialization is Science Sub-Specialization, Most Frequent Variables are the Same. Except for City and Governate.**\n"
      ]
    },
    {
      "cell_type": "code",
      "execution_count": null,
      "metadata": {
        "colab": {
          "base_uri": "https://localhost:8080/"
        },
        "id": "QwwDK9-FUAFd",
        "outputId": "df2d8835-00ca-4b52-a5f6-fa040851068e"
      },
      "outputs": [],
      "source": [
        "Science_SubSpecial_Students.info()"
      ]
    },
    {
      "cell_type": "code",
      "execution_count": null,
      "metadata": {
        "colab": {
          "base_uri": "https://localhost:8080/"
        },
        "id": "UgwB5kxWAqMf",
        "outputId": "19126dde-1e77-4a4f-f48e-399b6e23f4fc"
      },
      "outputs": [],
      "source": [
        "(len(Science_SubSpecial_Students) / len(Scientific_Special_Students)) * 100"
      ]
    },
    {
      "cell_type": "code",
      "execution_count": null,
      "metadata": {
        "colab": {
          "base_uri": "https://localhost:8080/"
        },
        "id": "Lk3zccHKZ2wI",
        "outputId": "4d2ed207-9a17-466d-ea24-206307b6558f"
      },
      "outputs": [],
      "source": [
        "(len(Science_SubSpecial_Students) / (len(Scientific_Special_Students) + len(Literary_Special_Students)) ) * 100"
      ]
    },
    {
      "cell_type": "markdown",
      "metadata": {
        "id": "eHLaV0rYUAFd"
      },
      "source": [
        "- **We have 63,437 Students in the Science Sub-Specialization that took the Second Exams.**\n",
        "\n",
        "- **About 78% of The Scientific Specialization is Science Sub-Specialization Students.**\n",
        "\n",
        "- **They Are About 41% of All Thanawya Amma Students that took the Second Exams. Compared to 48% in First Exams.**"
      ]
    },
    {
      "cell_type": "markdown",
      "metadata": {
        "id": "5aH3wdFYUAFe"
      },
      "source": [
        "## **Let's Analyze Absent Students (value = 0), Passed Students(value= -1)**"
      ]
    },
    {
      "cell_type": "markdown",
      "metadata": {
        "id": "voOznx0QOzxh"
      },
      "source": [
        "### **Absent Students**"
      ]
    },
    {
      "cell_type": "code",
      "execution_count": null,
      "metadata": {
        "colab": {
          "base_uri": "https://localhost:8080/",
          "height": 661
        },
        "id": "_7mvTL_GUAFe",
        "outputId": "986b9c0d-bd84-4b00-eb37-622eb3aa36ae"
      },
      "outputs": [],
      "source": [
        "Science_SubSpecial_AbsentStudents = Science_SubSpecial_Students[Science_SubSpecial_Students.isin([0]).values].drop_duplicates()\n",
        "Science_SubSpecial_AbsentStudents"
      ]
    },
    {
      "cell_type": "code",
      "execution_count": null,
      "metadata": {
        "colab": {
          "base_uri": "https://localhost:8080/"
        },
        "id": "Dh3vrwDzCDKm",
        "outputId": "4b08e34c-5229-43e6-90db-1be63e99ae58"
      },
      "outputs": [],
      "source": [
        "(len(Science_SubSpecial_AbsentStudents) / len(Scientific_Special_AbsentStudents)) * 100"
      ]
    },
    {
      "cell_type": "markdown",
      "metadata": {
        "id": "_ysN4XzmUAFe"
      },
      "source": [
        "- **About 810 Students in the Science Sub-Specialization were absent in atleast one exam.**"
      ]
    },
    {
      "cell_type": "code",
      "execution_count": null,
      "metadata": {
        "colab": {
          "base_uri": "https://localhost:8080/",
          "height": 364
        },
        "id": "p8Q0hE7rUAFe",
        "outputId": "be6afaff-00a1-4449-8fc1-875fffcf2b99"
      },
      "outputs": [],
      "source": [
        "Science_SubSpecial_AbsentStudents.describe()"
      ]
    },
    {
      "cell_type": "code",
      "execution_count": null,
      "metadata": {
        "colab": {
          "base_uri": "https://localhost:8080/",
          "height": 175
        },
        "id": "TFPZhtlrUAFe",
        "outputId": "69098b57-7f51-4918-9944-9934f1f99ea1"
      },
      "outputs": [],
      "source": [
        "Science_SubSpecial_AbsentStudents.describe(include=\"category\")"
      ]
    },
    {
      "cell_type": "markdown",
      "metadata": {
        "id": "sVGrbqkYUAFe"
      },
      "source": [
        "- **Most Frequent Categroical Values that appeared in all specialization students appears to be the same for this sub-specilization.**"
      ]
    },
    {
      "cell_type": "markdown",
      "metadata": {
        "id": "Ilx9axFHUAFe"
      },
      "source": [
        "\n",
        "\n",
        "---\n",
        "\n"
      ]
    },
    {
      "cell_type": "markdown",
      "metadata": {
        "id": "IfAH1xH6O1BY"
      },
      "source": [
        "### **Passed Students**"
      ]
    },
    {
      "cell_type": "code",
      "execution_count": null,
      "metadata": {
        "colab": {
          "base_uri": "https://localhost:8080/",
          "height": 661
        },
        "id": "chMkbZWEUAFf",
        "outputId": "1be16f11-3a59-4cb9-b084-079fc5751cc7"
      },
      "outputs": [],
      "source": [
        "Science_SubSpecial_PassedStudents = Science_SubSpecial_Students[Science_SubSpecial_Students.isin([-1]).values].drop_duplicates()\n",
        "Science_SubSpecial_PassedStudents"
      ]
    },
    {
      "cell_type": "code",
      "execution_count": null,
      "metadata": {
        "colab": {
          "base_uri": "https://localhost:8080/"
        },
        "id": "3UqJd0JfDSKG",
        "outputId": "17b4e867-687e-4922-d6c5-ccce12e3ea69"
      },
      "outputs": [],
      "source": [
        "(len(Science_SubSpecial_PassedStudents) / len(Scientific_Special_PassedStudents)) * 100"
      ]
    },
    {
      "cell_type": "markdown",
      "metadata": {
        "id": "pBvxwCKmUAFf"
      },
      "source": [
        "- **About 13974 Students in the Science Sub-Specialization Nearly Passed Subjects that don't participate in the total grade in the second exams.**\n",
        "\n",
        "- **They are About 76% of the Scientific Specialization Nearly Passed Students is Science Sub-Specialization Students.**"
      ]
    },
    {
      "cell_type": "code",
      "execution_count": null,
      "metadata": {
        "colab": {
          "base_uri": "https://localhost:8080/",
          "height": 364
        },
        "id": "TdPsynTWUAFf",
        "outputId": "c2ef6c5e-0199-4889-d0d1-a1fc8814234d"
      },
      "outputs": [],
      "source": [
        "Science_SubSpecial_PassedStudents.describe()"
      ]
    },
    {
      "cell_type": "code",
      "execution_count": null,
      "metadata": {
        "colab": {
          "base_uri": "https://localhost:8080/",
          "height": 175
        },
        "id": "eS8QNpNiUAFf",
        "outputId": "03ff00c9-2af7-4aef-fc6e-07f3f8380daa"
      },
      "outputs": [],
      "source": [
        "Science_SubSpecial_PassedStudents.describe(include=\"category\")"
      ]
    },
    {
      "cell_type": "markdown",
      "metadata": {
        "id": "1iF-LsOrUAFf"
      },
      "source": [
        "- **Most Frequent Categroical Values that appeared in all specialization students appears to be the same for this sub-specilization, Except for Governetn `\"الجيزة\"`.**"
      ]
    },
    {
      "cell_type": "markdown",
      "metadata": {
        "id": "hJfim15IUAFf"
      },
      "source": [
        "## **In Subjects, Let's Start with Subjects that don't Participate in Total Grade**"
      ]
    },
    {
      "cell_type": "code",
      "execution_count": null,
      "metadata": {
        "colab": {
          "base_uri": "https://localhost:8080/",
          "height": 424
        },
        "id": "JlTnuevjUAFf",
        "outputId": "2e51c102-9926-41ba-ae10-274107f6d124"
      },
      "outputs": [],
      "source": [
        "Science_SubSpecial_NotInTotal_Subjects = Science_SubSpecial_Students[[\"religion\",\t\"altarbiat_alwatania\",\"economics_statistics\"]]\n",
        "Science_SubSpecial_NotInTotal_Subjects"
      ]
    },
    {
      "cell_type": "code",
      "execution_count": null,
      "metadata": {
        "colab": {
          "base_uri": "https://localhost:8080/",
          "height": 300
        },
        "id": "zF6qDouDW46D",
        "outputId": "9903a0e1-10b8-41df-cb37-a6da7137a419"
      },
      "outputs": [],
      "source": [
        "Science_SubSpecial_NotInTotal_Subjects.describe()"
      ]
    },
    {
      "cell_type": "code",
      "execution_count": null,
      "metadata": {
        "colab": {
          "base_uri": "https://localhost:8080/",
          "height": 542
        },
        "id": "tI5DJu7A7VZ1",
        "outputId": "6a8a072a-efb6-488d-f1f5-acc6eee2ed95"
      },
      "outputs": [],
      "source": [
        "# Create subplots: use 'domain' type for Pie subplot\n",
        "\n",
        "fig = make_subplots(rows=1, cols=3, specs=[[{'type':'domain'}, {'type':'domain'}, {'type':'domain'}]])\n",
        "\n",
        "fig.add_trace(go.Pie(labels=Science_SubSpecial_NotInTotal_Subjects[\"religion\"].replace(-1,\"Pass\").value_counts().replace(-1,\"Pass\").index[:15], name='Grade'\n",
        "                     , values=Science_SubSpecial_NotInTotal_Subjects[\"religion\"].replace(-1,\"Pass\").value_counts().iloc[:15] ,titleposition='top left',\n",
        "                     titlefont={'size':20}, title=\"Religion\"),1, 1)\n",
        "\n",
        "fig.add_trace(go.Pie(labels=Science_SubSpecial_NotInTotal_Subjects[\"altarbiat_alwatania\"].replace(-1,\"Pass\").value_counts().index[:15], name='Grade'\n",
        "                     , values=Science_SubSpecial_NotInTotal_Subjects[\"altarbiat_alwatania\"].replace(-1,\"Pass\").value_counts().iloc[:15] ,titlefont={'size':20},\n",
        "                     titleposition='top left', title=\"Altarbiat Alwatania\"),1, 2)\n",
        "\n",
        "fig.add_trace(go.Pie(labels=Science_SubSpecial_NotInTotal_Subjects[\"economics_statistics\"].replace(-1,\"Pass\").value_counts().index[:15], name='Grade'\n",
        "                     , values=Science_SubSpecial_NotInTotal_Subjects[\"economics_statistics\"].replace(-1,\"Pass\").value_counts().iloc[:15] ,titleposition='top left' ,\n",
        "                     titlefont={'size':20}, title=\"Economics Statistics\"),1, 3)\n",
        "\n",
        "fig.update_traces(textposition='inside')\n",
        "fig.update_layout(title_text=\"Scientific Science Sub-Specialization Not in Total Subjects Grades\", titlefont={'size':20})\n",
        "fig.show()"
      ]
    },
    {
      "cell_type": "code",
      "execution_count": null,
      "metadata": {
        "colab": {
          "base_uri": "https://localhost:8080/",
          "height": 1000
        },
        "id": "PUQsEwcz7VZ1",
        "outputId": "5bc6ca02-0a69-4091-d68c-2bdb9be6c109"
      },
      "outputs": [],
      "source": [
        "fig1 = px.histogram(Science_SubSpecial_NotInTotal_Subjects[\"religion\"], height=400)\n",
        "fig2 = px.histogram(Science_SubSpecial_NotInTotal_Subjects[\"altarbiat_alwatania\"], height=400)\n",
        "fig3 = px.histogram(Science_SubSpecial_NotInTotal_Subjects[\"economics_statistics\"], height=400)\n",
        "\n",
        "fig1.show()\n",
        "fig2.show()\n",
        "fig3.show()"
      ]
    },
    {
      "cell_type": "code",
      "execution_count": null,
      "metadata": {
        "colab": {
          "base_uri": "https://localhost:8080/",
          "height": 542
        },
        "id": "2Ori6ymD7VZ1",
        "outputId": "5b15164b-9db8-4328-cbf3-736d2772ecdb"
      },
      "outputs": [],
      "source": [
        "fig = px.histogram(Science_SubSpecial_NotInTotal_Subjects, title=\"Scientific Science Sub-Specialization Not in Total Subjects Grades\")\n",
        "fig.show()"
      ]
    },
    {
      "cell_type": "markdown",
      "metadata": {
        "id": "fl0RylB__Gu2"
      },
      "source": [
        "- **Student Grades in Science Sub-Specialization don't seem to differ much from the whole Scientific Specialization, Except for Slightly Less Grades in `\"economics_statistics\"`.**"
      ]
    },
    {
      "cell_type": "code",
      "execution_count": null,
      "metadata": {
        "colab": {
          "base_uri": "https://localhost:8080/",
          "height": 542
        },
        "id": "pTYrIXok7VZ2",
        "outputId": "e70f46d3-0838-4914-9a73-4243a2645513"
      },
      "outputs": [],
      "source": [
        "fig = px.box(Scientific_NotInTotal_Subjects, title=\"Scientific Science Sub-Specialization Not in Total Subjects Grades\")\n",
        "fig.show() "
      ]
    },
    {
      "cell_type": "markdown",
      "metadata": {
        "id": "bigHo2xT_i7Q"
      },
      "source": [
        "- **Also Student Grades Range in Science Sub-Specialization don't seem to differ much from the whole Scientific Specialization.**"
      ]
    },
    {
      "cell_type": "code",
      "execution_count": null,
      "metadata": {
        "colab": {
          "base_uri": "https://localhost:8080/"
        },
        "id": "MwUkO--YUAFg",
        "outputId": "ef299982-95af-4e6b-d0c0-447213c4a3f6"
      },
      "outputs": [],
      "source": [
        "(len(Science_SubSpecial_NotInTotal_Subjects[Science_SubSpecial_NotInTotal_Subjects[\"economics_statistics\"] >=30]) / len(\n",
        "    Science_SubSpecial_NotInTotal_Subjects) ) * 100"
      ]
    },
    {
      "cell_type": "markdown",
      "metadata": {
        "id": "m9WobtqaUAFg"
      },
      "source": [
        "- **Only 19% of students score more than 40 in `\"economics_statistics\"` in Science Sub-Specializatio.**"
      ]
    },
    {
      "cell_type": "code",
      "execution_count": null,
      "metadata": {
        "colab": {
          "base_uri": "https://localhost:8080/",
          "height": 112
        },
        "id": "3gFNVfflUAFg",
        "outputId": "42dd147f-87a6-4e15-8be5-7cf12b5fb979"
      },
      "outputs": [],
      "source": [
        "Skew_Kurt_DF = pd.DataFrame([Science_SubSpecial_NotInTotal_Subjects.skew(),Science_SubSpecial_NotInTotal_Subjects.kurt()] , index=[\"Skewness\",\"Kurtosis\"])\n",
        "Skew_Kurt_DF"
      ]
    },
    {
      "cell_type": "markdown",
      "metadata": {
        "id": "AlF-tsTlUAFh"
      },
      "source": [
        "- **In General Student Grades in Science Sub-Specialization don't seem to differ much from the whole Scientific Specialization, Since they are the Majority of this Specialization.**"
      ]
    },
    {
      "cell_type": "markdown",
      "metadata": {
        "id": "hZ5RYUi9AhEl"
      },
      "source": [
        "- **Students Grades in these Subjects are also Noticably Lower than First Exams. Especially in `\"economics_statistics\"`.**"
      ]
    },
    {
      "cell_type": "markdown",
      "metadata": {
        "id": "dC3NkOpYUAFh"
      },
      "source": [
        "## **Main Subjects**"
      ]
    },
    {
      "cell_type": "code",
      "execution_count": null,
      "metadata": {
        "colab": {
          "base_uri": "https://localhost:8080/",
          "height": 424
        },
        "id": "ywUuQ3KyUAFh",
        "outputId": "45bb7114-4872-4d29-9c31-a8d57907577d"
      },
      "outputs": [],
      "source": [
        "Science_SubSpecial_Main_Subjects = Science_SubSpecial_Students[[\"arabic\",\t\"first_foreign_lang\",\t\"second_foreign_lang\"]]\n",
        "Science_SubSpecial_Main_Subjects"
      ]
    },
    {
      "cell_type": "code",
      "execution_count": null,
      "metadata": {
        "colab": {
          "base_uri": "https://localhost:8080/",
          "height": 300
        },
        "id": "iz9COKQ6_-Jg",
        "outputId": "dd03f76f-2f54-4ff6-e19c-6e71c9d80d23"
      },
      "outputs": [],
      "source": [
        "Science_SubSpecial_Main_Subjects.describe()"
      ]
    },
    {
      "cell_type": "code",
      "execution_count": null,
      "metadata": {
        "colab": {
          "base_uri": "https://localhost:8080/",
          "height": 542
        },
        "id": "VbNrnmykA_HP",
        "outputId": "644250bc-c02b-43c6-cc04-6c8da88538d9"
      },
      "outputs": [],
      "source": [
        "fig = make_subplots(rows=1, cols=3, specs=[[{'type':'domain'}, {'type':'domain'}, {'type':'domain'}]])\n",
        "\n",
        "fig.add_trace(go.Pie(labels=Science_SubSpecial_Main_Subjects[\"arabic\"].value_counts().index[:25], name='Grade'\n",
        "                     , values=Science_SubSpecial_Main_Subjects[\"arabic\"].value_counts().iloc[:25] ,titleposition='top left',\n",
        "                     titlefont={'size':20},title=\"Arabic\"),1, 1)\n",
        "\n",
        "fig.add_trace(go.Pie(labels=Science_SubSpecial_Main_Subjects[\"first_foreign_lang\"].value_counts().index[:25], name='Grade'\n",
        "                     , values=Science_SubSpecial_Main_Subjects[\"first_foreign_lang\"].value_counts().iloc[:25] ,\n",
        "                     titlefont={'size':20}, titleposition='top left', title=\"First foreign lang\"),1, 2)\n",
        "\n",
        "fig.add_trace(go.Pie(labels=Science_SubSpecial_Main_Subjects[\"second_foreign_lang\"].value_counts().index[:20], name='Grade'\n",
        "                     , values=Science_SubSpecial_Main_Subjects[\"second_foreign_lang\"].value_counts().iloc[:20] ,\n",
        "                     titleposition='top left' ,titlefont={'size':20},title=\"Second foreign lang\"),1, 3)\n",
        "\n",
        "fig.update_traces(textposition='inside')\n",
        "fig.update_layout(title_text=\"Scientific Science Sub-Specialization Main Subjects Grades\", titlefont={'size':20})\n",
        "fig.show()"
      ]
    },
    {
      "cell_type": "code",
      "execution_count": null,
      "metadata": {
        "colab": {
          "base_uri": "https://localhost:8080/",
          "height": 1000
        },
        "id": "Dzahpw8CA_HP",
        "outputId": "0a5b9978-5897-49b7-fc04-6091119188fe"
      },
      "outputs": [],
      "source": [
        "fig1 = px.histogram(Science_SubSpecial_Main_Subjects[\"arabic\"], height=400)\n",
        "fig2 = px.histogram(Science_SubSpecial_Main_Subjects[\"first_foreign_lang\"], height=400)\n",
        "fig3 = px.histogram(Science_SubSpecial_Main_Subjects[\"second_foreign_lang\"], height=400)\n",
        "\n",
        "fig1.show()\n",
        "fig2.show()\n",
        "fig3.show()"
      ]
    },
    {
      "cell_type": "code",
      "execution_count": null,
      "metadata": {
        "colab": {
          "base_uri": "https://localhost:8080/",
          "height": 542
        },
        "id": "y7yJ1PRLA_HP",
        "outputId": "94ef3811-8f93-434d-f9b1-55b5cb7265be"
      },
      "outputs": [],
      "source": [
        "fig = px.histogram(Science_SubSpecial_Main_Subjects, title=\"Scientific Science Sub-Specialization Main Subjects Grades\")\n",
        "fig.show()"
      ]
    },
    {
      "cell_type": "markdown",
      "metadata": {
        "id": "eH5MAP9cA_HQ"
      },
      "source": [
        "- **Student Grades in Science Sub-Specialization don't seem to differ much from the whole Scientific Specialization, Except for Slightly Lower Grades in `\"first_foreign_lang\"`.**"
      ]
    },
    {
      "cell_type": "code",
      "execution_count": null,
      "metadata": {
        "colab": {
          "base_uri": "https://localhost:8080/",
          "height": 542
        },
        "id": "MtaipAgfA_HQ",
        "outputId": "62c57008-d1af-487c-f61e-ff96f3b448bc"
      },
      "outputs": [],
      "source": [
        "fig = px.box(Science_SubSpecial_Main_Subjects, title=\"Scientific Science Sub-Specialization Main Subjects Grades\")\n",
        "fig.show() "
      ]
    },
    {
      "cell_type": "markdown",
      "metadata": {
        "id": "moMnNkgGA_HQ"
      },
      "source": [
        "- **Also Student Grades Range in Science Sub-Specialization don't seem to differ much from the whole Scientific Specialization. Except for Slightly lower range in `\"first_foreign_lang\"`.**"
      ]
    },
    {
      "cell_type": "code",
      "execution_count": null,
      "metadata": {
        "colab": {
          "base_uri": "https://localhost:8080/"
        },
        "id": "7n0DDPniA_HQ",
        "outputId": "a95af29b-0d1e-4a5f-e54c-f7b70221f7e0"
      },
      "outputs": [],
      "source": [
        "(len(Science_SubSpecial_Main_Subjects[Science_SubSpecial_Main_Subjects[\"arabic\"] >=60]) / len(Science_SubSpecial_Main_Subjects) ) * 100"
      ]
    },
    {
      "cell_type": "markdown",
      "metadata": {
        "id": "QlB3AtBuA_HR"
      },
      "source": [
        "- **About 5% of students in Scientific Science Sub-Specialization score more than 60 in `\"arabic\"`. Compared to Only 1% percent in Literary Specialization.**"
      ]
    },
    {
      "cell_type": "code",
      "execution_count": null,
      "metadata": {
        "colab": {
          "base_uri": "https://localhost:8080/"
        },
        "id": "eZs3rDJQcTVJ",
        "outputId": "68f6f103-5739-4994-982f-21ca7d7ea26e"
      },
      "outputs": [],
      "source": [
        "(len(Science_SubSpecial_Main_Subjects[Science_SubSpecial_Main_Subjects[\"first_foreign_lang\"] >=40]) / len(Science_SubSpecial_Main_Subjects) ) * 100"
      ]
    },
    {
      "cell_type": "markdown",
      "metadata": {
        "id": "N1psfNlJcWZf"
      },
      "source": [
        "- **About 9% of students in Scientific Science Sub-Specialization score more than 60 in `\"first_foreign_lang\"`.**"
      ]
    },
    {
      "cell_type": "code",
      "execution_count": null,
      "metadata": {
        "colab": {
          "base_uri": "https://localhost:8080/",
          "height": 112
        },
        "id": "7SHDbfp9UAFi",
        "outputId": "c3773793-fb8e-4598-83cb-63586459e6fc"
      },
      "outputs": [],
      "source": [
        "Skew_Kurt_DF = pd.DataFrame([Science_SubSpecial_Main_Subjects.skew(),Science_SubSpecial_Main_Subjects.kurt()] , index=[\"Skewness\",\"Kurtosis\"])\n",
        "Skew_Kurt_DF"
      ]
    },
    {
      "cell_type": "markdown",
      "metadata": {
        "id": "OXC4uyGwUAFi"
      },
      "source": [
        "- **In General Student Grades in Science Sub-Specialization Also don't seem to differ much from the whole Scientific Specialization, Since they are the Majority of this Specialization.**"
      ]
    },
    {
      "cell_type": "markdown",
      "metadata": {
        "id": "3cEw-1W0UAFh"
      },
      "source": [
        "- **Student Grades in Science Sub-Specialization are much lower than First Exams , Especially in `[\"arabic\",\t\"first_foreign_lang\"]`.**"
      ]
    },
    {
      "cell_type": "markdown",
      "metadata": {
        "id": "D_VGiwlCUAFi"
      },
      "source": [
        "## **Specialization Subjects**"
      ]
    },
    {
      "cell_type": "code",
      "execution_count": null,
      "metadata": {
        "colab": {
          "base_uri": "https://localhost:8080/",
          "height": 424
        },
        "id": "owUIPBvjUAFi",
        "outputId": "d62f15e1-532b-4dd8-cc2c-2ccc497f8e1e"
      },
      "outputs": [],
      "source": [
        "Science_SubSpecial_Subjects = Science_SubSpecial_Students[[\"biology\",\t\"geology\"\t]]\n",
        "Science_SubSpecial_Subjects"
      ]
    },
    {
      "cell_type": "code",
      "execution_count": null,
      "metadata": {
        "colab": {
          "base_uri": "https://localhost:8080/",
          "height": 300
        },
        "id": "9iAHX7nkUAFi",
        "outputId": "47e76cc2-cab6-400a-8fe9-8bce173545c9"
      },
      "outputs": [],
      "source": [
        "Science_SubSpecial_Subjects.describe()"
      ]
    },
    {
      "cell_type": "code",
      "execution_count": null,
      "metadata": {
        "colab": {
          "base_uri": "https://localhost:8080/",
          "height": 542
        },
        "id": "qce4tpe3EzCY",
        "outputId": "f5523775-0246-4211-b34b-075a1f9ab3d6"
      },
      "outputs": [],
      "source": [
        "fig = make_subplots(rows=1, cols=2, specs=[[{'type':'domain'}, {'type':'domain'}]])\n",
        "\n",
        "fig.add_trace(go.Pie(labels=Science_SubSpecial_Subjects[\"biology\"].value_counts().index[:30], name='Grade'\n",
        "                     , values=Science_SubSpecial_Subjects[\"biology\"].value_counts().iloc[:30] ,titleposition='top left',\n",
        "                     titlefont={'size':20},title=\"Biology\"),1, 1)\n",
        "\n",
        "fig.add_trace(go.Pie(labels=Science_SubSpecial_Subjects[\"geology\"].value_counts().index[:30], name='Grade'\n",
        "                     , values=Science_SubSpecial_Subjects[\"geology\"].value_counts().iloc[:30] ,\n",
        "                     titlefont={'size':20}, titleposition='top left', title=\"Geology\"),1, 2)\n",
        "\n",
        "\n",
        "fig.update_traces(textposition='inside')\n",
        "fig.update_layout(title_text=\"Scientific Science Sub-Specialization Subjects Grades\", titlefont={'size':20})\n",
        "fig.show()"
      ]
    },
    {
      "cell_type": "code",
      "execution_count": null,
      "metadata": {
        "colab": {
          "base_uri": "https://localhost:8080/",
          "height": 817
        },
        "id": "W8AwWH5qKlz_",
        "outputId": "99d0082c-b762-4816-d0f9-47832b84720b"
      },
      "outputs": [],
      "source": [
        "fig1 = px.histogram(Science_SubSpecial_Subjects[\"biology\"], height=400)\n",
        "fig2 = px.histogram(Science_SubSpecial_Subjects[\"geology\"], height=400)\n",
        "\n",
        "fig1.show()\n",
        "fig2.show()"
      ]
    },
    {
      "cell_type": "code",
      "execution_count": null,
      "metadata": {
        "colab": {
          "base_uri": "https://localhost:8080/",
          "height": 542
        },
        "id": "IwaB1lEbFwUA",
        "outputId": "562df203-ee0f-45e8-cb2a-ea74e7e90275"
      },
      "outputs": [],
      "source": [
        "fig = px.histogram(Science_SubSpecial_Subjects, title=\"Scientific Science Sub-Specialization Subjects Grades\")\n",
        "fig.show()"
      ]
    },
    {
      "cell_type": "markdown",
      "metadata": {
        "id": "hj8ftg9RUAFj"
      },
      "source": [
        "- **Students Grades in `\"geology\"` are way higher than `\"biology\"`**.\n",
        " - **Percentage of Student that have Exactly the succes grade in `\"geology\"` is only 30% with it also being not much higher frequently than other Grades. Compared to only 8% in First Exams.**\n",
        "\n",
        " - **Where it's way bigger in `\"biology\"` with 70% and also being way frequent than other frequent grades. Compared to only 30% in First Exams.**"
      ]
    },
    {
      "cell_type": "code",
      "execution_count": null,
      "metadata": {
        "colab": {
          "base_uri": "https://localhost:8080/",
          "height": 542
        },
        "id": "s3X01f24GBKq",
        "outputId": "06404342-4a6c-4870-8889-2192b9702f97"
      },
      "outputs": [],
      "source": [
        "fig = px.box(Science_SubSpecial_Subjects, title=\"Scientific Science Sub-Specialization Main Subjects Grades\")\n",
        "fig.show() "
      ]
    },
    {
      "cell_type": "markdown",
      "metadata": {
        "id": "dodMGa3iUAFj"
      },
      "source": [
        "- **We Can See the Diffrence More Clearly here**\n",
        " - **In `\"biology\"` Science Sub-Specialization Students 75% of Students Grade don't score 5 Grades Higher than Success Grade. Compared to 50% of Students in First Exams.**\n",
        "\n",
        " - **In `\"geology\"` Science Sub-Specialization Students 75% of Students Grade don't score 11 Grades Higher than Success Grade. Compared to 50% of Students in First Exams scoreing 15 Grades Higher than Success Grade.**"
      ]
    },
    {
      "cell_type": "code",
      "execution_count": null,
      "metadata": {
        "colab": {
          "base_uri": "https://localhost:8080/"
        },
        "id": "aLoTnmOXUAFj",
        "outputId": "54de8bbf-8f5a-4645-9475-c26c15791caa"
      },
      "outputs": [],
      "source": [
        "(len(Science_SubSpecial_Subjects[Science_SubSpecial_Subjects[\"biology\"] >=40]) / len(Science_SubSpecial_Subjects) ) * 100"
      ]
    },
    {
      "cell_type": "code",
      "execution_count": null,
      "metadata": {
        "colab": {
          "base_uri": "https://localhost:8080/"
        },
        "id": "6PTCerUzUAFj",
        "outputId": "ab694cf1-f662-4619-c699-06c786bab412"
      },
      "outputs": [],
      "source": [
        "(len(Science_SubSpecial_Subjects[Science_SubSpecial_Subjects[\"geology\"] >=40]) / len(Science_SubSpecial_Subjects) ) * 100"
      ]
    },
    {
      "cell_type": "markdown",
      "metadata": {
        "id": "cni8sLNUUAFj"
      },
      "source": [
        "- **Percentage of Students in Science Sub-Specialization That Score More than 40 Grades in `\"geology\"` are Higher with 25% of Students, Than Percent of of Students That Score More than 40 Grades in `\"biology\"`.**"
      ]
    },
    {
      "cell_type": "code",
      "execution_count": null,
      "metadata": {
        "colab": {
          "base_uri": "https://localhost:8080/",
          "height": 112
        },
        "id": "zCVOOOo-UAFj",
        "outputId": "e1a0cc36-2354-48fa-8332-ef8d5d71a088"
      },
      "outputs": [],
      "source": [
        "Skew_Kurt_DF = pd.DataFrame([Scientific_Specialization_Subjects.skew(),Scientific_Specialization_Subjects.kurt()] , index=[\"Skewness\",\"Kurtosis\"])\n",
        "Skew_Kurt_DF"
      ]
    },
    {
      "cell_type": "markdown",
      "metadata": {
        "id": "ONA199H3UAFj"
      },
      "source": [
        "- **In General `\"biology\"` seems to be way harder than `geology` for students in this specialization. Similarly to First Exams.**\n",
        "\n",
        "- **Student Grades in Science Sub-Specialization Subjects are way lower than First Exams , Especially in `\"biology\"`.**"
      ]
    },
    {
      "cell_type": "markdown",
      "metadata": {
        "id": "N3vZVhZi7I1a"
      },
      "source": [
        "# **Scientific Math Sub-Specialization Analysis**"
      ]
    },
    {
      "cell_type": "markdown",
      "metadata": {
        "id": "XP5LEv2qskRB"
      },
      "source": [
        "## **General Analysis for Specialization**"
      ]
    },
    {
      "cell_type": "code",
      "execution_count": null,
      "metadata": {
        "colab": {
          "base_uri": "https://localhost:8080/",
          "height": 661
        },
        "id": "Qa5JhC63skRB",
        "outputId": "87ac571c-c420-4222-a29b-8359485d166f"
      },
      "outputs": [],
      "source": [
        "Math_SubSpecial_Students"
      ]
    },
    {
      "cell_type": "code",
      "execution_count": null,
      "metadata": {
        "colab": {
          "base_uri": "https://localhost:8080/",
          "height": 364
        },
        "id": "_H9Jr4jEskRB",
        "outputId": "f98b3334-83f4-4dcd-dab5-3fdb7a0fd282"
      },
      "outputs": [],
      "source": [
        "Math_SubSpecial_Students.describe()"
      ]
    },
    {
      "cell_type": "markdown",
      "metadata": {
        "id": "SFF_gxp9skRC"
      },
      "source": [
        "- **Highest Total Grade in this Sub-Specialization is the Highest in this Specialization 378 (92%).**  \n"
      ]
    },
    {
      "cell_type": "code",
      "execution_count": null,
      "metadata": {
        "colab": {
          "base_uri": "https://localhost:8080/",
          "height": 175
        },
        "id": "dzK8uj6pskRC",
        "outputId": "b3647c1c-e9a5-456b-ad21-56037571b855"
      },
      "outputs": [],
      "source": [
        "Math_SubSpecial_Students.describe(include=\"category\")"
      ]
    },
    {
      "cell_type": "markdown",
      "metadata": {
        "id": "VmLLqwcpskRC"
      },
      "source": [
        "- **Most Frequent Variables are the Same As Whole Specialization, Except for There are more Males in this Sub-Specialization.**\n"
      ]
    },
    {
      "cell_type": "code",
      "execution_count": null,
      "metadata": {
        "colab": {
          "base_uri": "https://localhost:8080/"
        },
        "id": "Ovg0iNr8skRC",
        "outputId": "04c0c952-dbd3-413a-ec55-2a062d939b7c"
      },
      "outputs": [],
      "source": [
        "Math_SubSpecial_Students.info()"
      ]
    },
    {
      "cell_type": "code",
      "execution_count": null,
      "metadata": {
        "colab": {
          "base_uri": "https://localhost:8080/"
        },
        "id": "DhwhV1DZskRC",
        "outputId": "91229d4d-d37d-48f4-f4bb-78f5d01e9040"
      },
      "outputs": [],
      "source": [
        "(len(Math_SubSpecial_Students) / len(Scientific_Special_Students)) * 100"
      ]
    },
    {
      "cell_type": "code",
      "execution_count": null,
      "metadata": {
        "colab": {
          "base_uri": "https://localhost:8080/"
        },
        "id": "k6nY9Y_aaInH",
        "outputId": "483629cd-0e9a-4d38-ec84-45faccf21223"
      },
      "outputs": [],
      "source": [
        "(len(Math_SubSpecial_Students) / (len(Scientific_Special_Students) + len(Literary_Special_Students)) ) * 100"
      ]
    },
    {
      "cell_type": "markdown",
      "metadata": {
        "id": "waETdWzaskRC"
      },
      "source": [
        "- **We have Only 17,092 Students in the Math Sub-Specialization that took the First Exams.**\n",
        "\n",
        "- **About 21% Only of The Scientific Specialization is Math Sub-Specialization Students.**\n",
        "\n",
        "- **They Are About 11% of All Thanawya Amma Students that took the Second Exams. Compared to 14% in First Exams.**"
      ]
    },
    {
      "cell_type": "markdown",
      "metadata": {
        "id": "vQawvsNZskRC"
      },
      "source": [
        "## **Let's Analyze Absent Students (value = 0), Passed Students(value= -1)**"
      ]
    },
    {
      "cell_type": "markdown",
      "metadata": {
        "id": "XEwevvdhO7Q3"
      },
      "source": [
        "### **Absent Students**"
      ]
    },
    {
      "cell_type": "code",
      "execution_count": null,
      "metadata": {
        "colab": {
          "base_uri": "https://localhost:8080/",
          "height": 661
        },
        "id": "jF2KPC4uskRC",
        "outputId": "b7b90e8f-d96c-44fc-f277-5da5206922e1"
      },
      "outputs": [],
      "source": [
        "Math_SubSpecial_AbsentStudents = Math_SubSpecial_Students[Math_SubSpecial_Students.isin([0]).values].drop_duplicates()\n",
        "Math_SubSpecial_AbsentStudents"
      ]
    },
    {
      "cell_type": "code",
      "execution_count": null,
      "metadata": {
        "colab": {
          "base_uri": "https://localhost:8080/"
        },
        "id": "OTvW1oeOskRC",
        "outputId": "c780e401-ac6c-4a03-a7ad-48371893f2fe"
      },
      "outputs": [],
      "source": [
        "(len(Math_SubSpecial_AbsentStudents) / len(Scientific_Special_AbsentStudents)) * 100"
      ]
    },
    {
      "cell_type": "markdown",
      "metadata": {
        "id": "Qym0SGhzskRC"
      },
      "source": [
        "- **About Only 232  Students in the Science Sub-Specialization were absent in atleast one exam.**"
      ]
    },
    {
      "cell_type": "code",
      "execution_count": null,
      "metadata": {
        "colab": {
          "base_uri": "https://localhost:8080/",
          "height": 364
        },
        "id": "y1-a6eCIskRD",
        "outputId": "ffc0a2c9-af63-45fd-fa5c-76529629d2ff"
      },
      "outputs": [],
      "source": [
        "Math_SubSpecial_AbsentStudents.describe()"
      ]
    },
    {
      "cell_type": "code",
      "execution_count": null,
      "metadata": {
        "colab": {
          "base_uri": "https://localhost:8080/",
          "height": 175
        },
        "id": "ZiFVUAFwskRD",
        "outputId": "44cc6e54-5c4a-446d-c647-2785250cf470"
      },
      "outputs": [],
      "source": [
        "Math_SubSpecial_AbsentStudents.describe(include=\"category\")"
      ]
    },
    {
      "cell_type": "markdown",
      "metadata": {
        "id": "ZsgIr_Z1skRD"
      },
      "source": [
        "- **Most Frequent Categroical Values that appeared in all specialization students appears to be all diffrent for this sub-specilization. But same for the Sub-Specialization. Except for City and Governate.**"
      ]
    },
    {
      "cell_type": "markdown",
      "metadata": {
        "id": "t_cm6wxKskRD"
      },
      "source": [
        "\n",
        "\n",
        "---\n",
        "\n"
      ]
    },
    {
      "cell_type": "markdown",
      "metadata": {
        "id": "IB7ifb2OO91A"
      },
      "source": [
        "### **Passed Students**"
      ]
    },
    {
      "cell_type": "code",
      "execution_count": null,
      "metadata": {
        "colab": {
          "base_uri": "https://localhost:8080/",
          "height": 661
        },
        "id": "cbEiLK8EskRD",
        "outputId": "d6870d19-b9d2-40a8-8f66-48f439540146"
      },
      "outputs": [],
      "source": [
        "Math_SubSpecial_PassedStudents = Math_SubSpecial_Students[Math_SubSpecial_Students.isin([-1]).values].drop_duplicates()\n",
        "Math_SubSpecial_PassedStudents"
      ]
    },
    {
      "cell_type": "code",
      "execution_count": null,
      "metadata": {
        "colab": {
          "base_uri": "https://localhost:8080/"
        },
        "id": "AKEx4IdAskRD",
        "outputId": "cc5fbbe4-c20a-41ec-d66b-d9d8e40a7d43"
      },
      "outputs": [],
      "source": [
        "(len(Math_SubSpecial_PassedStudents) / len(Scientific_Special_PassedStudents)) * 100"
      ]
    },
    {
      "cell_type": "markdown",
      "metadata": {
        "id": "S6foLZKbskRD"
      },
      "source": [
        "- **About 4318  Students in the Math Sub-Specialization Passed Subjects that don't participate in the total grade in the second exams.**\n",
        "\n",
        "- **About 24% of the Scientific Specialization Passed Students is Math Sub-Specialization Students.**"
      ]
    },
    {
      "cell_type": "code",
      "execution_count": null,
      "metadata": {
        "colab": {
          "base_uri": "https://localhost:8080/",
          "height": 364
        },
        "id": "XpYQIOHcskRD",
        "outputId": "c23e131a-2d0c-4326-deed-987e1bb5d17b"
      },
      "outputs": [],
      "source": [
        "Math_SubSpecial_PassedStudents.describe()"
      ]
    },
    {
      "cell_type": "code",
      "execution_count": null,
      "metadata": {
        "colab": {
          "base_uri": "https://localhost:8080/",
          "height": 175
        },
        "id": "JiSuypZxskRD",
        "outputId": "702b264a-4780-427d-8f0f-d4d113c498ba"
      },
      "outputs": [],
      "source": [
        "Math_SubSpecial_PassedStudents.describe(include=\"category\")"
      ]
    },
    {
      "cell_type": "markdown",
      "metadata": {
        "id": "vIasZwMMskRD"
      },
      "source": [
        "- **Also Most Frequent Categroical Values that appeared in all specialization students appears to be all diffrent for this sub-specilization. But same for the Sub-Specialization.**"
      ]
    },
    {
      "cell_type": "markdown",
      "metadata": {
        "id": "XGs-_3fKskRE"
      },
      "source": [
        "## **In Subjects, Let's Start with Subjects that don't Participate in Total Grade**"
      ]
    },
    {
      "cell_type": "code",
      "execution_count": null,
      "metadata": {
        "colab": {
          "base_uri": "https://localhost:8080/",
          "height": 424
        },
        "id": "b6LVxChVskRE",
        "outputId": "3ab11403-842b-4832-a292-9b7aa20144cc"
      },
      "outputs": [],
      "source": [
        "Math_SubSpecial_NotInTotal_Subjects = Math_SubSpecial_Students[[\"religion\",\t\"altarbiat_alwatania\",\"economics_statistics\"]]\n",
        "Math_SubSpecial_NotInTotal_Subjects"
      ]
    },
    {
      "cell_type": "code",
      "execution_count": null,
      "metadata": {
        "colab": {
          "base_uri": "https://localhost:8080/",
          "height": 300
        },
        "id": "0X_S70xJskRE",
        "outputId": "b67e84a8-10d4-4d99-a5c8-2b84a0d160d0"
      },
      "outputs": [],
      "source": [
        "Math_SubSpecial_NotInTotal_Subjects.describe()"
      ]
    },
    {
      "cell_type": "code",
      "execution_count": null,
      "metadata": {
        "colab": {
          "base_uri": "https://localhost:8080/",
          "height": 542
        },
        "id": "hvjxnQs0XABe",
        "outputId": "d1de4f13-3edb-4238-8b1d-e61cd5a2d5df"
      },
      "outputs": [],
      "source": [
        "# Create subplots: use 'domain' type for Pie subplot\n",
        "\n",
        "fig = make_subplots(rows=1, cols=3, specs=[[{'type':'domain'}, {'type':'domain'}, {'type':'domain'}]])\n",
        "\n",
        "fig.add_trace(go.Pie(labels=Math_SubSpecial_NotInTotal_Subjects[\"religion\"].replace(-1,\"Pass\").value_counts().replace(-1,\"Pass\").index[:15], name='Grade'\n",
        "                     , values=Math_SubSpecial_NotInTotal_Subjects[\"religion\"].replace(-1,\"Pass\").value_counts().iloc[:15] ,titleposition='top left',\n",
        "                     titlefont={'size':20}, title=\"Religion\"),1, 1)\n",
        "\n",
        "fig.add_trace(go.Pie(labels=Math_SubSpecial_NotInTotal_Subjects[\"altarbiat_alwatania\"].replace(-1,\"Pass\").value_counts().index[:15], name='Grade'\n",
        "                     , values=Math_SubSpecial_NotInTotal_Subjects[\"altarbiat_alwatania\"].replace(-1,\"Pass\").value_counts().iloc[:15] ,titlefont={'size':20},\n",
        "                     titleposition='top left', title=\"Altarbiat Alwatania\"),1, 2)\n",
        "\n",
        "fig.add_trace(go.Pie(labels=Math_SubSpecial_NotInTotal_Subjects[\"economics_statistics\"].replace(-1,\"Pass\").value_counts().index[:15], name='Grade'\n",
        "                     , values=Math_SubSpecial_NotInTotal_Subjects[\"economics_statistics\"].replace(-1,\"Pass\").value_counts().iloc[:15] ,titleposition='top left' ,\n",
        "                     titlefont={'size':20}, title=\"Economics Statistics\"),1, 3)\n",
        "\n",
        "fig.update_traces(textposition='inside')\n",
        "fig.update_layout(title_text=\"Scientific Math Sub-Specialization Not in Total Subjects Grades\", titlefont={'size':20})\n",
        "fig.show()"
      ]
    },
    {
      "cell_type": "code",
      "execution_count": null,
      "metadata": {
        "colab": {
          "base_uri": "https://localhost:8080/",
          "height": 1000
        },
        "id": "dTbsPA1dXABe",
        "outputId": "9b000e9f-eba5-4fca-aaf3-7db84d230dec"
      },
      "outputs": [],
      "source": [
        "fig1 = px.histogram(Math_SubSpecial_NotInTotal_Subjects[\"religion\"], height=400)\n",
        "fig2 = px.histogram(Math_SubSpecial_NotInTotal_Subjects[\"altarbiat_alwatania\"], height=400)\n",
        "fig3 = px.histogram(Math_SubSpecial_NotInTotal_Subjects[\"economics_statistics\"], height=400)\n",
        "\n",
        "fig1.show()\n",
        "fig2.show()\n",
        "fig3.show()"
      ]
    },
    {
      "cell_type": "code",
      "execution_count": null,
      "metadata": {
        "colab": {
          "base_uri": "https://localhost:8080/",
          "height": 542
        },
        "id": "_6EqiLq0XABe",
        "outputId": "0ddc66bf-cc9a-4cc9-c4db-af2e0833d7b8"
      },
      "outputs": [],
      "source": [
        "fig = px.histogram(Science_SubSpecial_NotInTotal_Subjects, title=\"Scientific Math Sub-Specialization Not in Total Subjects Grades\")\n",
        "fig.show()"
      ]
    },
    {
      "cell_type": "markdown",
      "metadata": {
        "id": "930HWpT-XABe"
      },
      "source": [
        "- **Student Grades in Science Sub-Specialization don't seem to differ much from the whole Scientific Specialization.**\n",
        "- **Slighlty higher Percent of Student Nearly Passing First two Subjects , and Slightly higher Grades in `\"economics_statistics\"`.**"
      ]
    },
    {
      "cell_type": "code",
      "execution_count": null,
      "metadata": {
        "colab": {
          "base_uri": "https://localhost:8080/",
          "height": 542
        },
        "id": "xkQfREDjXABf",
        "outputId": "34a51cd0-6ca3-4c7a-c4a9-91645a141a46"
      },
      "outputs": [],
      "source": [
        "fig = px.box(Math_SubSpecial_NotInTotal_Subjects.replace(-1,\"Pass\"), title=\"Scientific Math Sub-Specialization Not in Total Subjects Grades\")\n",
        "fig.show() "
      ]
    },
    {
      "cell_type": "markdown",
      "metadata": {
        "id": "KGFjd1GCXABf"
      },
      "source": [
        "- **Also Student Grades Range in Science Sub-Specialization don't seem to differ much from the whole Scientific Specialization.**\n",
        "- **Slightly Lower in `['religon', 'altarbiat_alwatania']` , Slightly higher in  `\"economics_statistics\"`.**\n",
        "\n",
        "- **Most of Students Grades in Second Exams don't go higher than the Grades of 50% of Students Grades in First Exams.**"
      ]
    },
    {
      "cell_type": "code",
      "execution_count": null,
      "metadata": {
        "colab": {
          "base_uri": "https://localhost:8080/"
        },
        "id": "kpmUgLm6XABf",
        "outputId": "c1b353d2-b7c8-457e-e579-e7ce3f6d6b77"
      },
      "outputs": [],
      "source": [
        "(len(Math_SubSpecial_NotInTotal_Subjects[Math_SubSpecial_NotInTotal_Subjects[\"economics_statistics\"] >=30]) / len(\n",
        "    Math_SubSpecial_NotInTotal_Subjects) ) * 100"
      ]
    },
    {
      "cell_type": "markdown",
      "metadata": {
        "id": "YacJI1elXABf"
      },
      "source": [
        "- **32% of students score more than 40 in `\"economics_statistics\"` in Science Sub-Specialization. Compared to only 19% with Science Sub-Specialization.**"
      ]
    },
    {
      "cell_type": "code",
      "execution_count": null,
      "metadata": {
        "colab": {
          "base_uri": "https://localhost:8080/",
          "height": 112
        },
        "id": "Z2eu6Pw8skRF",
        "outputId": "5318a7c7-195d-4fb8-ff77-a4e26d13486b"
      },
      "outputs": [],
      "source": [
        "Skew_Kurt_DF = pd.DataFrame([Math_SubSpecial_NotInTotal_Subjects.skew(),Math_SubSpecial_NotInTotal_Subjects.kurt()] , index=[\"Skewness\",\"Kurtosis\"])\n",
        "Skew_Kurt_DF"
      ]
    },
    {
      "cell_type": "markdown",
      "metadata": {
        "id": "iIsX8rSOskRF"
      },
      "source": [
        "- **In General Student Grades in Math Sub-Specialization don't seem to differ much from the whole Scientific Specialization, Except for Slighlty higher Percent of Student Nearly Passing First two Subjects , and Slightly higher Grades in `\"economics_statistics\"`.**\n",
        "\n",
        "- **Students Grades in these Subjects are also Noticably Lower than First Exams.**"
      ]
    },
    {
      "cell_type": "markdown",
      "metadata": {
        "id": "W5WNcKxbskRF"
      },
      "source": [
        "## **Main Subjects**"
      ]
    },
    {
      "cell_type": "code",
      "execution_count": null,
      "metadata": {
        "colab": {
          "base_uri": "https://localhost:8080/",
          "height": 424
        },
        "id": "IIt04LkLskRF",
        "outputId": "6481062e-ef32-4b3e-94af-9be90202ed40"
      },
      "outputs": [],
      "source": [
        "Math_SubSpecial_Main_Subjects = Math_SubSpecial_Students[[\"arabic\",\t\"first_foreign_lang\",\t\"second_foreign_lang\"]]\n",
        "Math_SubSpecial_Main_Subjects"
      ]
    },
    {
      "cell_type": "code",
      "execution_count": null,
      "metadata": {
        "colab": {
          "base_uri": "https://localhost:8080/",
          "height": 300
        },
        "id": "xOR0mcM2skRF",
        "outputId": "69c8e687-6638-4d1e-a690-671157d1edb7"
      },
      "outputs": [],
      "source": [
        "Math_SubSpecial_Main_Subjects.describe()"
      ]
    },
    {
      "cell_type": "code",
      "execution_count": null,
      "metadata": {
        "colab": {
          "base_uri": "https://localhost:8080/",
          "height": 542
        },
        "id": "KySm7e7QbekL",
        "outputId": "8b7da769-baac-487e-c8bd-613e20917b30"
      },
      "outputs": [],
      "source": [
        "fig = make_subplots(rows=1, cols=3, specs=[[{'type':'domain'}, {'type':'domain'}, {'type':'domain'}]])\n",
        "\n",
        "fig.add_trace(go.Pie(labels=Math_SubSpecial_Main_Subjects[\"arabic\"].value_counts().index[:25], name='Grade'\n",
        "                     , values=Math_SubSpecial_Main_Subjects[\"arabic\"].value_counts().iloc[:25] ,titleposition='top left',\n",
        "                     titlefont={'size':20},title=\"Arabic\"),1, 1)\n",
        "\n",
        "fig.add_trace(go.Pie(labels=Math_SubSpecial_Main_Subjects[\"first_foreign_lang\"].value_counts().index[:25], name='Grade'\n",
        "                     , values=Math_SubSpecial_Main_Subjects[\"first_foreign_lang\"].value_counts().iloc[:25] ,\n",
        "                     titlefont={'size':20}, titleposition='top left', title=\"First foreign lang\"),1, 2)\n",
        "\n",
        "fig.add_trace(go.Pie(labels=Math_SubSpecial_Main_Subjects[\"second_foreign_lang\"].value_counts().index[:20], name='Grade'\n",
        "                     , values=Math_SubSpecial_Main_Subjects[\"second_foreign_lang\"].value_counts().iloc[:20] ,\n",
        "                     titleposition='top left' ,titlefont={'size':20},title=\"Second foreign lang\"),1, 3)\n",
        "\n",
        "fig.update_traces(textposition='inside')\n",
        "fig.update_layout(title_text=\"Scientific Math Sub-Specialization Main Subjects Grades\", titlefont={'size':20})\n",
        "fig.show()"
      ]
    },
    {
      "cell_type": "code",
      "execution_count": null,
      "metadata": {
        "colab": {
          "base_uri": "https://localhost:8080/",
          "height": 1000
        },
        "id": "-8FpJ9-BbekL",
        "outputId": "c3020972-bc4a-4ac7-8671-fcd0bbb9e2d4"
      },
      "outputs": [],
      "source": [
        "fig1 = px.histogram(Math_SubSpecial_Main_Subjects[\"arabic\"], height=400)\n",
        "fig2 = px.histogram(Math_SubSpecial_Main_Subjects[\"first_foreign_lang\"], height=400)\n",
        "fig3 = px.histogram(Math_SubSpecial_Main_Subjects[\"second_foreign_lang\"], height=400)\n",
        "\n",
        "fig1.show()\n",
        "fig2.show()\n",
        "fig3.show()"
      ]
    },
    {
      "cell_type": "code",
      "execution_count": null,
      "metadata": {
        "colab": {
          "base_uri": "https://localhost:8080/",
          "height": 542
        },
        "id": "3swI80zGbekL",
        "outputId": "190e627c-5479-466d-fb83-414250fdf20a"
      },
      "outputs": [],
      "source": [
        "fig = px.histogram(Math_SubSpecial_Main_Subjects, title=\"Scientific Math Sub-Specialization Main Subjects Grades\")\n",
        "fig.show()"
      ]
    },
    {
      "cell_type": "markdown",
      "metadata": {
        "id": "yeTfF8jAbekL"
      },
      "source": [
        "- **Student Grades in Science Sub-Specialization don't seem to differ much from the whole Scientific Specialization, Except for Slightly Higher Grades in `\"first_foreign_lang\"` Than Science Sub-Specialization.**"
      ]
    },
    {
      "cell_type": "code",
      "execution_count": null,
      "metadata": {
        "colab": {
          "base_uri": "https://localhost:8080/",
          "height": 542
        },
        "id": "ju2lGtcdbekL",
        "outputId": "09f7a4b4-49fb-4205-e08f-882ae7ad8d3c"
      },
      "outputs": [],
      "source": [
        "fig = px.box(Math_SubSpecial_Main_Subjects, title=\"Scientific Math Sub-Specialization Main Subjects Grades\")\n",
        "fig.show() "
      ]
    },
    {
      "cell_type": "markdown",
      "metadata": {
        "id": "VS5XLNcpbekL"
      },
      "source": [
        "- **Also Student Grades Range in Science Sub-Specialization don't seem to differ much from the whole Scientific Specialization. Except for Slightly Higher range in `\"first_foreign_lang\"`.**"
      ]
    },
    {
      "cell_type": "code",
      "execution_count": null,
      "metadata": {
        "colab": {
          "base_uri": "https://localhost:8080/"
        },
        "id": "ZJLvGA_NbekM",
        "outputId": "2fdced7f-ff1e-4305-e9d9-a23d8cf38d2b"
      },
      "outputs": [],
      "source": [
        "(len(Math_SubSpecial_Main_Subjects[Math_SubSpecial_Main_Subjects[\"arabic\"] >=60]) / len(Math_SubSpecial_Main_Subjects) ) * 100"
      ]
    },
    {
      "cell_type": "markdown",
      "metadata": {
        "id": "Ix5Ut2AfdCUW"
      },
      "source": [
        "- **About 4% of students in Scientific Math Sub-Specialization score more than 60 in `\"arabic\"`.**"
      ]
    },
    {
      "cell_type": "code",
      "execution_count": null,
      "metadata": {
        "colab": {
          "base_uri": "https://localhost:8080/"
        },
        "id": "8D4vRhypcfDO",
        "outputId": "d19f6b11-25cb-4147-cc8e-a9f80f3e7d9d"
      },
      "outputs": [],
      "source": [
        "(len(Math_SubSpecial_Main_Subjects[Math_SubSpecial_Main_Subjects[\"first_foreign_lang\"] >=40]) / len(Math_SubSpecial_Main_Subjects) ) * 100"
      ]
    },
    {
      "cell_type": "markdown",
      "metadata": {
        "id": "vnBIZR6tcfDP"
      },
      "source": [
        "- **About 13% of students in Scientific Specialization score more than 60 in `\"first_foreign_lang\"`. Compared to Only 7% with Science Sub-Specialization.**"
      ]
    },
    {
      "cell_type": "markdown",
      "metadata": {
        "id": "08387dPXskRG"
      },
      "source": [
        "- **25% of Student Grades in `[\"first_foreign_lang\"]` is Slightly higher, Unlike `[\"second_foreign_lang\"]` where it's slightly lower.**"
      ]
    },
    {
      "cell_type": "code",
      "execution_count": null,
      "metadata": {
        "colab": {
          "base_uri": "https://localhost:8080/"
        },
        "id": "A1AOB0TVskRG",
        "outputId": "1ba4ac99-71e3-41bf-9f16-e762c1882496"
      },
      "outputs": [],
      "source": [
        "(len(Math_SubSpecial_Main_Subjects[Math_SubSpecial_Main_Subjects[\"arabic\"] >=70]) / len(Math_SubSpecial_Main_Subjects) ) * 100"
      ]
    },
    {
      "cell_type": "markdown",
      "metadata": {
        "id": "Y_pTuyZeskRG"
      },
      "source": [
        "- **5% of the Math Sub-Specialization got more than 70 Grades in `\"arabic\"`. Less 2% than Science Sub-Specialization.**"
      ]
    },
    {
      "cell_type": "code",
      "execution_count": null,
      "metadata": {
        "colab": {
          "base_uri": "https://localhost:8080/",
          "height": 112
        },
        "id": "z7XS-4OrskRG",
        "outputId": "eb09c5cf-ef63-42d7-c6a8-5b933f749702"
      },
      "outputs": [],
      "source": [
        "Skew_Kurt_DF = pd.DataFrame([Math_SubSpecial_Main_Subjects.skew(),Math_SubSpecial_Main_Subjects.kurt()] , index=[\"Skewness\",\"Kurtosis\"])\n",
        "Skew_Kurt_DF"
      ]
    },
    {
      "cell_type": "markdown",
      "metadata": {
        "id": "wIINUNV6skRG"
      },
      "source": [
        "- **In General Student Grades in Math Sub-Specialization don't seem to differ much from the whole Scientific Specialization, Except for Slightly Higher Grades in `[\"first_foreign_lang\"]`.**"
      ]
    },
    {
      "cell_type": "markdown",
      "metadata": {
        "id": "IkLp2cYVeb4X"
      },
      "source": [
        "- **Student Grades in Math Sub-Specialization Main Subjects are much lower than First Exams , Especially in `[\"arabic\",\t\"first_foreign_lang\"]`.**"
      ]
    },
    {
      "cell_type": "markdown",
      "metadata": {
        "id": "4LXpcWAyskRH"
      },
      "source": [
        "## **Specialization Subjects**"
      ]
    },
    {
      "cell_type": "code",
      "execution_count": null,
      "metadata": {
        "colab": {
          "base_uri": "https://localhost:8080/",
          "height": 424
        },
        "id": "d4fibD-gskRH",
        "outputId": "3b2798d6-e4c2-4748-b61d-b54c6a1f601e"
      },
      "outputs": [],
      "source": [
        "Math_SubSpecial_Subjects = Math_SubSpecial_Students[[\"pure_mathematics\",\t\"applied_math\"]]\n",
        "Math_SubSpecial_Subjects"
      ]
    },
    {
      "cell_type": "code",
      "execution_count": null,
      "metadata": {
        "colab": {
          "base_uri": "https://localhost:8080/",
          "height": 300
        },
        "id": "YApv3W4askRH",
        "outputId": "0e5168ea-666d-42b2-c0f2-97423d672f25"
      },
      "outputs": [],
      "source": [
        "Math_SubSpecial_Subjects.describe()"
      ]
    },
    {
      "cell_type": "code",
      "execution_count": null,
      "metadata": {
        "colab": {
          "base_uri": "https://localhost:8080/",
          "height": 542
        },
        "id": "qMJlUANiiPAy",
        "outputId": "bb05ac09-29fb-46da-837c-753f38fe054e"
      },
      "outputs": [],
      "source": [
        "fig = make_subplots(rows=1, cols=2, specs=[[{'type':'domain'}, {'type':'domain'}]])\n",
        "\n",
        "fig.add_trace(go.Pie(labels=Math_SubSpecial_Subjects[\"pure_mathematics\"].value_counts().index[:30], name='Grade'\n",
        "                     , values=Math_SubSpecial_Subjects[\"pure_mathematics\"].value_counts().iloc[:30] ,titleposition='top left',\n",
        "                     titlefont={'size':20},title=\"Pure Mathematics\"),1, 1)\n",
        "\n",
        "fig.add_trace(go.Pie(labels=Math_SubSpecial_Subjects[\"applied_math\"].value_counts().index[:30], name='Grade'\n",
        "                     , values=Math_SubSpecial_Subjects[\"applied_math\"].value_counts().iloc[:30] ,\n",
        "                     titlefont={'size':20}, titleposition='top left', title=\"Applied Mathematics\"),1, 2)\n",
        "\n",
        "\n",
        "fig.update_traces(textposition='inside')\n",
        "fig.update_layout(title_text=\"Scientific Math Sub-Specialization Subjects Grades\", titlefont={'size':20})\n",
        "fig.show()"
      ]
    },
    {
      "cell_type": "code",
      "execution_count": null,
      "metadata": {
        "colab": {
          "base_uri": "https://localhost:8080/",
          "height": 817
        },
        "id": "muDuJIhgiPAy",
        "outputId": "d96fbe40-6bcc-4a8c-857d-faa0154dd9d4"
      },
      "outputs": [],
      "source": [
        "fig1 = px.histogram(Math_SubSpecial_Subjects[\"pure_mathematics\"], height=400)\n",
        "fig2 = px.histogram(Math_SubSpecial_Subjects[\"applied_math\"], height=400)\n",
        "\n",
        "fig1.show()\n",
        "fig2.show()"
      ]
    },
    {
      "cell_type": "code",
      "execution_count": null,
      "metadata": {
        "colab": {
          "base_uri": "https://localhost:8080/",
          "height": 542
        },
        "id": "9W3ON3vRiPAy",
        "outputId": "048dd42d-5db8-4d12-e85b-71a633cef915"
      },
      "outputs": [],
      "source": [
        "fig = px.histogram(Math_SubSpecial_Subjects, title=\"Scientific Math Sub-Specialization Subjects Grades\")\n",
        "fig.show()"
      ]
    },
    {
      "cell_type": "markdown",
      "metadata": {
        "id": "Xxa4WGZQskRH"
      },
      "source": [
        "- **Students Grades in `\"applied_math\"` are Slightly higher than `\"pure_mathematics\"`**.\n",
        " - **72% of Students got Exactly the Success Grade in `\"pure_mathematics\"` , Compared to only 64% of students in `\"applied_math\"`**"
      ]
    },
    {
      "cell_type": "code",
      "execution_count": null,
      "metadata": {
        "colab": {
          "base_uri": "https://localhost:8080/",
          "height": 542
        },
        "id": "7JwJHgtmiPAz",
        "outputId": "6d1d5222-b24c-4273-c90e-acb5e6f1fc4c"
      },
      "outputs": [],
      "source": [
        "fig = px.box(Math_SubSpecial_Subjects, title=\"Scientific Math Sub-Specialization Main Subjects Grades\")\n",
        "fig.show() "
      ]
    },
    {
      "cell_type": "markdown",
      "metadata": {
        "id": "5nKQ651KjWU5"
      },
      "source": [
        "- **Most Students Grades in `\"pure_mathematics\"` are nearly the Sucess Grade.**\n",
        "\n",
        "- **Where in `\"applied_math\"` the Students Grades are Slighlty wider in Range with more Students Scoring above Succes Grade.**"
      ]
    },
    {
      "cell_type": "code",
      "execution_count": null,
      "metadata": {
        "colab": {
          "base_uri": "https://localhost:8080/"
        },
        "id": "n9wupu8dskRI",
        "outputId": "a0236d8f-a2e1-4103-995c-fe0b52fecd44"
      },
      "outputs": [],
      "source": [
        "(len(Math_SubSpecial_Subjects[Math_SubSpecial_Subjects[\"pure_mathematics\"] >=35]) / len(Math_SubSpecial_Subjects) ) * 100"
      ]
    },
    {
      "cell_type": "code",
      "execution_count": null,
      "metadata": {
        "colab": {
          "base_uri": "https://localhost:8080/"
        },
        "id": "T6fLVzoYskRI",
        "outputId": "5328ac19-de0c-494e-dd57-d03ee0aa8c90"
      },
      "outputs": [],
      "source": [
        "(len(Math_SubSpecial_Subjects[Math_SubSpecial_Subjects[\"applied_math\"] >=35]) / len(Math_SubSpecial_Subjects) ) * 100"
      ]
    },
    {
      "cell_type": "markdown",
      "metadata": {
        "id": "HsN4AC3JskRI"
      },
      "source": [
        "- **Percentage of Students in Math Sub-Specialization That Score More than 35 Grades in `\"applied_math\"` are Higher with 5% of Students, Than Percent of of Students That Score More than 40 Grades in `\"pure_mathematics\"`.**"
      ]
    },
    {
      "cell_type": "code",
      "execution_count": null,
      "metadata": {
        "colab": {
          "base_uri": "https://localhost:8080/",
          "height": 112
        },
        "id": "HWLAXzNoskRI",
        "outputId": "1d4a8d89-df97-4e24-a3a2-b6e0dad2aa95"
      },
      "outputs": [],
      "source": [
        "Skew_Kurt_DF = pd.DataFrame([Math_SubSpecial_Subjects.skew(),Math_SubSpecial_Subjects.kurt()] , index=[\"Skewness\",\"Kurtosis\"])\n",
        "Skew_Kurt_DF"
      ]
    },
    {
      "cell_type": "markdown",
      "metadata": {
        "id": "D_NFVpo3skRI"
      },
      "source": [
        "- **In General `\"applied_math\"` seems to be Slightly Easier than `\"pure_mathematics\"` for students in this \n",
        "specialization.**"
      ]
    },
    {
      "cell_type": "markdown",
      "metadata": {
        "id": "lGKv7nT3kCaJ"
      },
      "source": [
        "- **Student Grades On Second Exams in Math Sub-Specialization Subjects are Way Lower Than First Exams Grade.**"
      ]
    }
  ],
  "metadata": {
    "colab": {
      "collapsed_sections": [
        "Pp9tjgeB8_PI",
        "Ocl6PYh0mEJy",
        "3r_mfgIr575h",
        "QhyZkXRiZbAm",
        "IOodUOZVYpdP",
        "PJzEpWLJ62NB",
        "1HseDpDX6y1i",
        "sFu7ylhbuuNU",
        "odOLOXfDOLJZ",
        "tK9opGAFOO2r",
        "kDMXFqGEoGuK",
        "A1lDu-6a50mr",
        "ZFByDzQa6Wkb",
        "HW-yJRU82e4F",
        "KoWyj87EOczp",
        "BrIwnxptOijB",
        "v08WF3W12e4H",
        "NYA0ewaa2e4J",
        "2POxl4eZ2e4K",
        "1Al7TdC3UAFc",
        "5aH3wdFYUAFe",
        "voOznx0QOzxh",
        "IfAH1xH6O1BY",
        "hJfim15IUAFf",
        "N3vZVhZi7I1a",
        "XP5LEv2qskRB",
        "vQawvsNZskRC",
        "XEwevvdhO7Q3",
        "IB7ifb2OO91A",
        "XGs-_3fKskRE"
      ],
      "provenance": []
    },
    "kernelspec": {
      "display_name": "Python 3",
      "name": "python3"
    },
    "language_info": {
      "name": "python"
    }
  },
  "nbformat": 4,
  "nbformat_minor": 0
}
